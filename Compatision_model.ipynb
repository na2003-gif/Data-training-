{
  "metadata": {
    "kernelspec": {
      "display_name": "Python 3",
      "name": "python3"
    },
    "language_info": {
      "pygments_lexer": "ipython3",
      "nbconvert_exporter": "python",
      "version": "3.6.4",
      "file_extension": ".py",
      "codemirror_mode": {
        "name": "ipython",
        "version": 3
      },
      "name": "python",
      "mimetype": "text/x-python"
    },
    "colab": {
      "provenance": [],
      "include_colab_link": true
    }
  },
  "nbformat_minor": 0,
  "nbformat": 4,
  "cells": [
    {
      "cell_type": "markdown",
      "metadata": {
        "id": "view-in-github",
        "colab_type": "text"
      },
      "source": [
        "<a href=\"https://colab.research.google.com/github/na2003-gif/Data-training-/blob/main/Compatision_model.ipynb\" target=\"_parent\"><img src=\"https://colab.research.google.com/assets/colab-badge.svg\" alt=\"Open In Colab\"/></a>"
      ]
    },
    {
      "cell_type": "markdown",
      "source": [
        "<div style=\"border-width:1; border-radius: 15px; border-style: solid; border-color: rgb(10, 10, 10); background-color: #2b6777; color:#ffffff;text-align: center;font: 14pt 'Candara';font-weight:bold;\"><h1>Airline passenger satisfaction -Model Comparasion\n",
        " </h1></div>"
      ],
      "metadata": {
        "id": "chRrJoXy-cmB"
      }
    },
    {
      "cell_type": "code",
      "source": [
        "%load_ext cudf.pandas\n"
      ],
      "metadata": {
        "id": "7FCPQ2OyJ1lF"
      },
      "execution_count": 1,
      "outputs": []
    },
    {
      "source": [
        "import kagglehub\n",
        "teejmahal20_airline_passenger_satisfaction_path = kagglehub.dataset_download('teejmahal20/airline-passenger-satisfaction')\n",
        "print('Data source import complete.')\n"
      ],
      "metadata": {
        "colab": {
          "base_uri": "https://localhost:8080/",
          "height": 0
        },
        "id": "TzfTc20z-cmA",
        "outputId": "e6fd0f2a-8a56-461d-8428-934b9b5ed774"
      },
      "cell_type": "code",
      "outputs": [
        {
          "output_type": "stream",
          "name": "stdout",
          "text": [
            "Data source import complete.\n"
          ]
        }
      ],
      "execution_count": 2
    },
    {
      "cell_type": "markdown",
      "source": [
        "<div style=\"border-width:1; border-radius: 15px; border-style: solid; border-color: rgb(10, 10, 10); background-color: #52ab98; text-align: center;font: 14pt 'Candara';font-weight:bold;\"><h1>Reading data</h1></div>"
      ],
      "metadata": {
        "id": "sVjhySH2-cmE"
      }
    },
    {
      "cell_type": "code",
      "source": [
        "import numpy as np\n",
        "import matplotlib.pyplot as plt\n",
        "import pandas as pd\n",
        "import sklearn\n",
        "from sklearn.neural_network import MLPClassifier\n",
        "from sklearn.metrics import accuracy_score\n",
        "import warnings\n",
        "warnings.filterwarnings(\"ignore\")\n",
        "%matplotlib inline"
      ],
      "metadata": {
        "execution": {
          "iopub.status.busy": "2022-08-01T21:03:44.136333Z",
          "iopub.execute_input": "2022-08-01T21:03:44.137333Z",
          "iopub.status.idle": "2022-08-01T21:03:45.480002Z",
          "shell.execute_reply.started": "2022-08-01T21:03:44.137174Z",
          "shell.execute_reply": "2022-08-01T21:03:45.478531Z"
        },
        "trusted": true,
        "id": "Loco7uGN-cmE"
      },
      "execution_count": 3,
      "outputs": []
    },
    {
      "cell_type": "code",
      "source": [
        "data = pd.read_csv(\"/kaggle/input/airline-passenger-satisfaction/train.csv\")"
      ],
      "metadata": {
        "execution": {
          "iopub.status.busy": "2022-08-01T21:03:45.482604Z",
          "iopub.execute_input": "2022-08-01T21:03:45.482946Z",
          "iopub.status.idle": "2022-08-01T21:03:45.950285Z",
          "shell.execute_reply.started": "2022-08-01T21:03:45.482916Z",
          "shell.execute_reply": "2022-08-01T21:03:45.949054Z"
        },
        "trusted": true,
        "id": "HiBgljOi-cmF"
      },
      "execution_count": 4,
      "outputs": []
    },
    {
      "cell_type": "markdown",
      "source": [
        "Table dimensions:"
      ],
      "metadata": {
        "id": "5PAHL9I2-cmF"
      }
    },
    {
      "cell_type": "code",
      "source": [
        "data.drop(columns=['Unnamed: 0', 'id'], inplace=True)\n",
        "data.columns()"
      ],
      "metadata": {
        "colab": {
          "base_uri": "https://localhost:8080/",
          "height": 0
        },
        "id": "2m9kYBjOWCww",
        "outputId": "326607f8-9cf6-449f-99b5-9c40592c76a7"
      },
      "execution_count": 5,
      "outputs": [
        {
          "output_type": "execute_result",
          "data": {
            "text/plain": [
              "Index(['Gender', 'Customer Type', 'Age', 'Type of Travel', 'Class',\n",
              "       'Flight Distance', 'Inflight wifi service',\n",
              "       'Departure/Arrival time convenient', 'Ease of Online booking',\n",
              "       'Gate location', 'Food and drink', 'Online boarding', 'Seat comfort',\n",
              "       'Inflight entertainment', 'On-board service', 'Leg room service',\n",
              "       'Baggage handling', 'Checkin service', 'Inflight service',\n",
              "       'Cleanliness', 'Departure Delay in Minutes', 'Arrival Delay in Minutes',\n",
              "       'satisfaction'],\n",
              "      dtype='object')"
            ]
          },
          "metadata": {},
          "execution_count": 5
        }
      ]
    },
    {
      "cell_type": "code",
      "source": [
        "data.info()"
      ],
      "metadata": {
        "execution": {
          "iopub.status.busy": "2022-08-01T21:03:46.009259Z",
          "iopub.execute_input": "2022-08-01T21:03:46.009685Z",
          "iopub.status.idle": "2022-08-01T21:03:46.099333Z",
          "shell.execute_reply.started": "2022-08-01T21:03:46.009651Z",
          "shell.execute_reply": "2022-08-01T21:03:46.097901Z"
        },
        "trusted": true,
        "colab": {
          "base_uri": "https://localhost:8080/",
          "height": 0
        },
        "id": "mjjoWEyb-cmG",
        "outputId": "3607404d-2ff5-4132-d704-176670ffd4e4"
      },
      "execution_count": 6,
      "outputs": [
        {
          "output_type": "stream",
          "name": "stdout",
          "text": [
            "<class 'cudf.core.dataframe.DataFrame'>\n",
            "RangeIndex: 103904 entries, 0 to 103903\n",
            "Data columns (total 23 columns):\n",
            " #   Column                             Non-Null Count   Dtype\n",
            "---  ------                             --------------   -----\n",
            " 0   Gender                             103904 non-null  object\n",
            " 1   Customer Type                      103904 non-null  object\n",
            " 2   Age                                103904 non-null  int64\n",
            " 3   Type of Travel                     103904 non-null  object\n",
            " 4   Class                              103904 non-null  object\n",
            " 5   Flight Distance                    103904 non-null  int64\n",
            " 6   Inflight wifi service              103904 non-null  int64\n",
            " 7   Departure/Arrival time convenient  103904 non-null  int64\n",
            " 8   Ease of Online booking             103904 non-null  int64\n",
            " 9   Gate location                      103904 non-null  int64\n",
            " 10  Food and drink                     103904 non-null  int64\n",
            " 11  Online boarding                    103904 non-null  int64\n",
            " 12  Seat comfort                       103904 non-null  int64\n",
            " 13  Inflight entertainment             103904 non-null  int64\n",
            " 14  On-board service                   103904 non-null  int64\n",
            " 15  Leg room service                   103904 non-null  int64\n",
            " 16  Baggage handling                   103904 non-null  int64\n",
            " 17  Checkin service                    103904 non-null  int64\n",
            " 18  Inflight service                   103904 non-null  int64\n",
            " 19  Cleanliness                        103904 non-null  int64\n",
            " 20  Departure Delay in Minutes         103904 non-null  int64\n",
            " 21  Arrival Delay in Minutes           103594 non-null  float64\n",
            " 22  satisfaction                       103904 non-null  object\n",
            "dtypes: float64(1), int64(17), object(5)\n",
            "memory usage: 21.9+ MB\n"
          ]
        }
      ]
    },
    {
      "cell_type": "markdown",
      "source": [
        "The first 22 features have been detailed above. The <b>satisfaction</b> feature is the target."
      ],
      "metadata": {
        "id": "_1c8H7MM-cmI"
      }
    },
    {
      "cell_type": "markdown",
      "source": [
        "We chaning data to numerical & categorical features."
      ],
      "metadata": {
        "id": "5QnbnJVlEQC2"
      }
    },
    {
      "cell_type": "code",
      "source": [
        "categorical_indexes = [0, 1, 3, 4] + list(range(6, 20))\n",
        "data.iloc[:,categorical_indexes] = data.iloc[:,categorical_indexes].astype('category')\n",
        "data.info()"
      ],
      "metadata": {
        "colab": {
          "base_uri": "https://localhost:8080/",
          "height": 0
        },
        "id": "QH-vfoHQXiDK",
        "outputId": "ac2e2317-daef-4604-cd16-922acafc182e"
      },
      "execution_count": 7,
      "outputs": [
        {
          "output_type": "stream",
          "name": "stdout",
          "text": [
            "<class 'cudf.core.dataframe.DataFrame'>\n",
            "RangeIndex: 103904 entries, 0 to 103903\n",
            "Data columns (total 23 columns):\n",
            " #   Column                             Non-Null Count   Dtype\n",
            "---  ------                             --------------   -----\n",
            " 0   Gender                             103904 non-null  object\n",
            " 1   Customer Type                      103904 non-null  object\n",
            " 2   Age                                103904 non-null  int64\n",
            " 3   Type of Travel                     103904 non-null  object\n",
            " 4   Class                              103904 non-null  object\n",
            " 5   Flight Distance                    103904 non-null  int64\n",
            " 6   Inflight wifi service              103904 non-null  category\n",
            " 7   Departure/Arrival time convenient  103904 non-null  category\n",
            " 8   Ease of Online booking             103904 non-null  category\n",
            " 9   Gate location                      103904 non-null  category\n",
            " 10  Food and drink                     103904 non-null  category\n",
            " 11  Online boarding                    103904 non-null  category\n",
            " 12  Seat comfort                       103904 non-null  category\n",
            " 13  Inflight entertainment             103904 non-null  category\n",
            " 14  On-board service                   103904 non-null  category\n",
            " 15  Leg room service                   103904 non-null  category\n",
            " 16  Baggage handling                   103904 non-null  category\n",
            " 17  Checkin service                    103904 non-null  category\n",
            " 18  Inflight service                   103904 non-null  category\n",
            " 19  Cleanliness                        103904 non-null  category\n",
            " 20  Departure Delay in Minutes         103904 non-null  int64\n",
            " 21  Arrival Delay in Minutes           103594 non-null  float64\n",
            " 22  satisfaction                       103904 non-null  object\n",
            "dtypes: category(14), float64(1), int64(3), object(5)\n",
            "memory usage: 12.2+ MB\n"
          ]
        }
      ]
    },
    {
      "cell_type": "code",
      "source": [
        "\n",
        "for col in data.select_dtypes(include='object').columns:\n",
        "    if data[col].nunique() < 20:\n",
        "        data[col] = data[col].astype('category')\n",
        "\n",
        "categorical_columns = [c for c in data.columns if str(data[c].dtype) in ['category']]\n",
        "numerical_columns = [c for c in data.columns if str(data[c].dtype) in ['int64','float64']]\n",
        "\n",
        "print(\"Categorical columns:\", categorical_columns)\n",
        "print(\"Numerical columns:\", numerical_columns)"
      ],
      "metadata": {
        "execution": {
          "iopub.status.busy": "2022-08-01T21:03:46.447649Z",
          "iopub.execute_input": "2022-08-01T21:03:46.447962Z",
          "iopub.status.idle": "2022-08-01T21:03:46.499293Z",
          "shell.execute_reply.started": "2022-08-01T21:03:46.447934Z",
          "shell.execute_reply": "2022-08-01T21:03:46.49792Z"
        },
        "trusted": true,
        "id": "pIlqHyjI-cmK",
        "colab": {
          "base_uri": "https://localhost:8080/",
          "height": 0
        },
        "outputId": "e4d75d35-bd8a-4c17-e5c4-470dfd4b938d"
      },
      "execution_count": 8,
      "outputs": [
        {
          "output_type": "stream",
          "name": "stdout",
          "text": [
            "Categorical columns: ['Gender', 'Customer Type', 'Type of Travel', 'Class', 'Inflight wifi service', 'Departure/Arrival time convenient', 'Ease of Online booking', 'Gate location', 'Food and drink', 'Online boarding', 'Seat comfort', 'Inflight entertainment', 'On-board service', 'Leg room service', 'Baggage handling', 'Checkin service', 'Inflight service', 'Cleanliness', 'satisfaction']\n",
            "Numerical columns: ['Age', 'Flight Distance', 'Departure Delay in Minutes', 'Arrival Delay in Minutes']\n"
          ]
        }
      ]
    },
    {
      "cell_type": "markdown",
      "source": [
        "<div style=\"border-width:1; border-radius: 15px; border-style: solid; border-color: rgb(10, 10, 10); background-color: #52ab98; text-align: center;font: 14pt 'Candara';font-weight:bold;\"><h1>Filling in missing values</h1></div>"
      ],
      "metadata": {
        "id": "b9UJUmSn-cmI"
      }
    },
    {
      "cell_type": "markdown",
      "source": [
        "Let's see how many missing values are in each column of the table:"
      ],
      "metadata": {
        "id": "CsgnhG-d-cmI"
      }
    },
    {
      "cell_type": "code",
      "source": [
        "data.isna().sum()"
      ],
      "metadata": {
        "execution": {
          "iopub.status.busy": "2022-08-01T21:03:46.314946Z",
          "iopub.execute_input": "2022-08-01T21:03:46.315727Z",
          "iopub.status.idle": "2022-08-01T21:03:46.346948Z",
          "shell.execute_reply.started": "2022-08-01T21:03:46.315681Z",
          "shell.execute_reply": "2022-08-01T21:03:46.345773Z"
        },
        "trusted": true,
        "colab": {
          "base_uri": "https://localhost:8080/",
          "height": 805
        },
        "id": "U_1iWPp_-cmI",
        "outputId": "d1e96c17-d2ca-4862-bde7-63787f57d06b"
      },
      "execution_count": 9,
      "outputs": [
        {
          "output_type": "execute_result",
          "data": {
            "text/plain": [
              "Gender                                 0\n",
              "Customer Type                          0\n",
              "Age                                    0\n",
              "Type of Travel                         0\n",
              "Class                                  0\n",
              "Flight Distance                        0\n",
              "Inflight wifi service                  0\n",
              "Departure/Arrival time convenient      0\n",
              "Ease of Online booking                 0\n",
              "Gate location                          0\n",
              "Food and drink                         0\n",
              "Online boarding                        0\n",
              "Seat comfort                           0\n",
              "Inflight entertainment                 0\n",
              "On-board service                       0\n",
              "Leg room service                       0\n",
              "Baggage handling                       0\n",
              "Checkin service                        0\n",
              "Inflight service                       0\n",
              "Cleanliness                            0\n",
              "Departure Delay in Minutes             0\n",
              "Arrival Delay in Minutes             310\n",
              "satisfaction                           0\n",
              "dtype: int64"
            ],
            "text/html": [
              "<div>\n",
              "<style scoped>\n",
              "    .dataframe tbody tr th:only-of-type {\n",
              "        vertical-align: middle;\n",
              "    }\n",
              "\n",
              "    .dataframe tbody tr th {\n",
              "        vertical-align: top;\n",
              "    }\n",
              "\n",
              "    .dataframe thead th {\n",
              "        text-align: right;\n",
              "    }\n",
              "</style>\n",
              "<table border=\"1\" class=\"dataframe\">\n",
              "  <thead>\n",
              "    <tr style=\"text-align: right;\">\n",
              "      <th></th>\n",
              "      <th>0</th>\n",
              "    </tr>\n",
              "  </thead>\n",
              "  <tbody>\n",
              "    <tr>\n",
              "      <th>Gender</th>\n",
              "      <td>0</td>\n",
              "    </tr>\n",
              "    <tr>\n",
              "      <th>Customer Type</th>\n",
              "      <td>0</td>\n",
              "    </tr>\n",
              "    <tr>\n",
              "      <th>Age</th>\n",
              "      <td>0</td>\n",
              "    </tr>\n",
              "    <tr>\n",
              "      <th>Type of Travel</th>\n",
              "      <td>0</td>\n",
              "    </tr>\n",
              "    <tr>\n",
              "      <th>Class</th>\n",
              "      <td>0</td>\n",
              "    </tr>\n",
              "    <tr>\n",
              "      <th>Flight Distance</th>\n",
              "      <td>0</td>\n",
              "    </tr>\n",
              "    <tr>\n",
              "      <th>Inflight wifi service</th>\n",
              "      <td>0</td>\n",
              "    </tr>\n",
              "    <tr>\n",
              "      <th>Departure/Arrival time convenient</th>\n",
              "      <td>0</td>\n",
              "    </tr>\n",
              "    <tr>\n",
              "      <th>Ease of Online booking</th>\n",
              "      <td>0</td>\n",
              "    </tr>\n",
              "    <tr>\n",
              "      <th>Gate location</th>\n",
              "      <td>0</td>\n",
              "    </tr>\n",
              "    <tr>\n",
              "      <th>Food and drink</th>\n",
              "      <td>0</td>\n",
              "    </tr>\n",
              "    <tr>\n",
              "      <th>Online boarding</th>\n",
              "      <td>0</td>\n",
              "    </tr>\n",
              "    <tr>\n",
              "      <th>Seat comfort</th>\n",
              "      <td>0</td>\n",
              "    </tr>\n",
              "    <tr>\n",
              "      <th>Inflight entertainment</th>\n",
              "      <td>0</td>\n",
              "    </tr>\n",
              "    <tr>\n",
              "      <th>On-board service</th>\n",
              "      <td>0</td>\n",
              "    </tr>\n",
              "    <tr>\n",
              "      <th>Leg room service</th>\n",
              "      <td>0</td>\n",
              "    </tr>\n",
              "    <tr>\n",
              "      <th>Baggage handling</th>\n",
              "      <td>0</td>\n",
              "    </tr>\n",
              "    <tr>\n",
              "      <th>Checkin service</th>\n",
              "      <td>0</td>\n",
              "    </tr>\n",
              "    <tr>\n",
              "      <th>Inflight service</th>\n",
              "      <td>0</td>\n",
              "    </tr>\n",
              "    <tr>\n",
              "      <th>Cleanliness</th>\n",
              "      <td>0</td>\n",
              "    </tr>\n",
              "    <tr>\n",
              "      <th>Departure Delay in Minutes</th>\n",
              "      <td>0</td>\n",
              "    </tr>\n",
              "    <tr>\n",
              "      <th>Arrival Delay in Minutes</th>\n",
              "      <td>310</td>\n",
              "    </tr>\n",
              "    <tr>\n",
              "      <th>satisfaction</th>\n",
              "      <td>0</td>\n",
              "    </tr>\n",
              "  </tbody>\n",
              "</table>\n",
              "</div><br><label><b>dtype:</b> int64</label>"
            ]
          },
          "metadata": {},
          "execution_count": 9
        }
      ]
    },
    {
      "cell_type": "markdown",
      "source": [
        "Fill in the missing values with <b>medians</b> in the columns corresponding to quantitative features:"
      ],
      "metadata": {
        "id": "yxeKBfxL-cmI"
      }
    },
    {
      "cell_type": "code",
      "source": [
        "data['Arrival Delay in Minutes'].fillna(data['Arrival Delay in Minutes'].median(axis = 0), inplace = True)"
      ],
      "metadata": {
        "execution": {
          "iopub.status.busy": "2022-08-01T21:03:46.35205Z",
          "iopub.execute_input": "2022-08-01T21:03:46.352762Z",
          "iopub.status.idle": "2022-08-01T21:03:46.364696Z",
          "shell.execute_reply.started": "2022-08-01T21:03:46.352726Z",
          "shell.execute_reply": "2022-08-01T21:03:46.363535Z"
        },
        "trusted": true,
        "id": "c7iXc_ds-cmJ"
      },
      "execution_count": 10,
      "outputs": []
    },
    {
      "cell_type": "code",
      "source": [
        "data.isna().sum()"
      ],
      "metadata": {
        "execution": {
          "iopub.status.busy": "2022-08-01T21:03:46.366338Z",
          "iopub.execute_input": "2022-08-01T21:03:46.366926Z",
          "iopub.status.idle": "2022-08-01T21:03:46.394659Z",
          "shell.execute_reply.started": "2022-08-01T21:03:46.366891Z",
          "shell.execute_reply": "2022-08-01T21:03:46.393671Z"
        },
        "trusted": true,
        "colab": {
          "base_uri": "https://localhost:8080/",
          "height": 805
        },
        "id": "wv0Zgm9S-cmJ",
        "outputId": "8b5c6d29-cd80-4c51-c4ac-1be2f71394d2"
      },
      "execution_count": 11,
      "outputs": [
        {
          "output_type": "execute_result",
          "data": {
            "text/plain": [
              "Gender                               0\n",
              "Customer Type                        0\n",
              "Age                                  0\n",
              "Type of Travel                       0\n",
              "Class                                0\n",
              "Flight Distance                      0\n",
              "Inflight wifi service                0\n",
              "Departure/Arrival time convenient    0\n",
              "Ease of Online booking               0\n",
              "Gate location                        0\n",
              "Food and drink                       0\n",
              "Online boarding                      0\n",
              "Seat comfort                         0\n",
              "Inflight entertainment               0\n",
              "On-board service                     0\n",
              "Leg room service                     0\n",
              "Baggage handling                     0\n",
              "Checkin service                      0\n",
              "Inflight service                     0\n",
              "Cleanliness                          0\n",
              "Departure Delay in Minutes           0\n",
              "Arrival Delay in Minutes             0\n",
              "satisfaction                         0\n",
              "dtype: int64"
            ],
            "text/html": [
              "<div>\n",
              "<style scoped>\n",
              "    .dataframe tbody tr th:only-of-type {\n",
              "        vertical-align: middle;\n",
              "    }\n",
              "\n",
              "    .dataframe tbody tr th {\n",
              "        vertical-align: top;\n",
              "    }\n",
              "\n",
              "    .dataframe thead th {\n",
              "        text-align: right;\n",
              "    }\n",
              "</style>\n",
              "<table border=\"1\" class=\"dataframe\">\n",
              "  <thead>\n",
              "    <tr style=\"text-align: right;\">\n",
              "      <th></th>\n",
              "      <th>0</th>\n",
              "    </tr>\n",
              "  </thead>\n",
              "  <tbody>\n",
              "    <tr>\n",
              "      <th>Gender</th>\n",
              "      <td>0</td>\n",
              "    </tr>\n",
              "    <tr>\n",
              "      <th>Customer Type</th>\n",
              "      <td>0</td>\n",
              "    </tr>\n",
              "    <tr>\n",
              "      <th>Age</th>\n",
              "      <td>0</td>\n",
              "    </tr>\n",
              "    <tr>\n",
              "      <th>Type of Travel</th>\n",
              "      <td>0</td>\n",
              "    </tr>\n",
              "    <tr>\n",
              "      <th>Class</th>\n",
              "      <td>0</td>\n",
              "    </tr>\n",
              "    <tr>\n",
              "      <th>Flight Distance</th>\n",
              "      <td>0</td>\n",
              "    </tr>\n",
              "    <tr>\n",
              "      <th>Inflight wifi service</th>\n",
              "      <td>0</td>\n",
              "    </tr>\n",
              "    <tr>\n",
              "      <th>Departure/Arrival time convenient</th>\n",
              "      <td>0</td>\n",
              "    </tr>\n",
              "    <tr>\n",
              "      <th>Ease of Online booking</th>\n",
              "      <td>0</td>\n",
              "    </tr>\n",
              "    <tr>\n",
              "      <th>Gate location</th>\n",
              "      <td>0</td>\n",
              "    </tr>\n",
              "    <tr>\n",
              "      <th>Food and drink</th>\n",
              "      <td>0</td>\n",
              "    </tr>\n",
              "    <tr>\n",
              "      <th>Online boarding</th>\n",
              "      <td>0</td>\n",
              "    </tr>\n",
              "    <tr>\n",
              "      <th>Seat comfort</th>\n",
              "      <td>0</td>\n",
              "    </tr>\n",
              "    <tr>\n",
              "      <th>Inflight entertainment</th>\n",
              "      <td>0</td>\n",
              "    </tr>\n",
              "    <tr>\n",
              "      <th>On-board service</th>\n",
              "      <td>0</td>\n",
              "    </tr>\n",
              "    <tr>\n",
              "      <th>Leg room service</th>\n",
              "      <td>0</td>\n",
              "    </tr>\n",
              "    <tr>\n",
              "      <th>Baggage handling</th>\n",
              "      <td>0</td>\n",
              "    </tr>\n",
              "    <tr>\n",
              "      <th>Checkin service</th>\n",
              "      <td>0</td>\n",
              "    </tr>\n",
              "    <tr>\n",
              "      <th>Inflight service</th>\n",
              "      <td>0</td>\n",
              "    </tr>\n",
              "    <tr>\n",
              "      <th>Cleanliness</th>\n",
              "      <td>0</td>\n",
              "    </tr>\n",
              "    <tr>\n",
              "      <th>Departure Delay in Minutes</th>\n",
              "      <td>0</td>\n",
              "    </tr>\n",
              "    <tr>\n",
              "      <th>Arrival Delay in Minutes</th>\n",
              "      <td>0</td>\n",
              "    </tr>\n",
              "    <tr>\n",
              "      <th>satisfaction</th>\n",
              "      <td>0</td>\n",
              "    </tr>\n",
              "  </tbody>\n",
              "</table>\n",
              "</div><br><label><b>dtype:</b> int64</label>"
            ]
          },
          "metadata": {},
          "execution_count": 11
        }
      ]
    },
    {
      "cell_type": "code",
      "source": [
        "data.describe()"
      ],
      "metadata": {
        "execution": {
          "iopub.status.busy": "2022-08-01T21:03:46.396232Z",
          "iopub.execute_input": "2022-08-01T21:03:46.396637Z",
          "iopub.status.idle": "2022-08-01T21:03:46.446224Z",
          "shell.execute_reply.started": "2022-08-01T21:03:46.396604Z",
          "shell.execute_reply": "2022-08-01T21:03:46.444839Z"
        },
        "trusted": true,
        "colab": {
          "base_uri": "https://localhost:8080/",
          "height": 300
        },
        "id": "m30LtCQb-cmJ",
        "outputId": "26b848d6-ef9c-4f54-e9ff-f2dfe752c98e"
      },
      "execution_count": 12,
      "outputs": [
        {
          "output_type": "execute_result",
          "data": {
            "text/plain": [
              "                 Age  Flight Distance  Departure Delay in Minutes  \\\n",
              "count  103904.000000    103904.000000               103904.000000   \n",
              "mean       39.379706      1189.448375                   14.815618   \n",
              "std        15.114964       997.147281                   38.230901   \n",
              "min         7.000000        31.000000                    0.000000   \n",
              "25%        27.000000       414.000000                    0.000000   \n",
              "50%        40.000000       843.000000                    0.000000   \n",
              "75%        51.000000      1743.000000                   12.000000   \n",
              "max        85.000000      4983.000000                 1592.000000   \n",
              "\n",
              "       Arrival Delay in Minutes  \n",
              "count             103904.000000  \n",
              "mean                  15.133392  \n",
              "std                   38.649776  \n",
              "min                    0.000000  \n",
              "25%                    0.000000  \n",
              "50%                    0.000000  \n",
              "75%                   13.000000  \n",
              "max                 1584.000000  "
            ],
            "text/html": [
              "<div>\n",
              "<style scoped>\n",
              "    .dataframe tbody tr th:only-of-type {\n",
              "        vertical-align: middle;\n",
              "    }\n",
              "\n",
              "    .dataframe tbody tr th {\n",
              "        vertical-align: top;\n",
              "    }\n",
              "\n",
              "    .dataframe thead th {\n",
              "        text-align: right;\n",
              "    }\n",
              "</style>\n",
              "<table border=\"1\" class=\"dataframe\">\n",
              "  <thead>\n",
              "    <tr style=\"text-align: right;\">\n",
              "      <th></th>\n",
              "      <th>Age</th>\n",
              "      <th>Flight Distance</th>\n",
              "      <th>Departure Delay in Minutes</th>\n",
              "      <th>Arrival Delay in Minutes</th>\n",
              "    </tr>\n",
              "  </thead>\n",
              "  <tbody>\n",
              "    <tr>\n",
              "      <th>count</th>\n",
              "      <td>103904.000000</td>\n",
              "      <td>103904.000000</td>\n",
              "      <td>103904.000000</td>\n",
              "      <td>103904.000000</td>\n",
              "    </tr>\n",
              "    <tr>\n",
              "      <th>mean</th>\n",
              "      <td>39.379706</td>\n",
              "      <td>1189.448375</td>\n",
              "      <td>14.815618</td>\n",
              "      <td>15.133392</td>\n",
              "    </tr>\n",
              "    <tr>\n",
              "      <th>std</th>\n",
              "      <td>15.114964</td>\n",
              "      <td>997.147281</td>\n",
              "      <td>38.230901</td>\n",
              "      <td>38.649776</td>\n",
              "    </tr>\n",
              "    <tr>\n",
              "      <th>min</th>\n",
              "      <td>7.000000</td>\n",
              "      <td>31.000000</td>\n",
              "      <td>0.000000</td>\n",
              "      <td>0.000000</td>\n",
              "    </tr>\n",
              "    <tr>\n",
              "      <th>25%</th>\n",
              "      <td>27.000000</td>\n",
              "      <td>414.000000</td>\n",
              "      <td>0.000000</td>\n",
              "      <td>0.000000</td>\n",
              "    </tr>\n",
              "    <tr>\n",
              "      <th>50%</th>\n",
              "      <td>40.000000</td>\n",
              "      <td>843.000000</td>\n",
              "      <td>0.000000</td>\n",
              "      <td>0.000000</td>\n",
              "    </tr>\n",
              "    <tr>\n",
              "      <th>75%</th>\n",
              "      <td>51.000000</td>\n",
              "      <td>1743.000000</td>\n",
              "      <td>12.000000</td>\n",
              "      <td>13.000000</td>\n",
              "    </tr>\n",
              "    <tr>\n",
              "      <th>max</th>\n",
              "      <td>85.000000</td>\n",
              "      <td>4983.000000</td>\n",
              "      <td>1592.000000</td>\n",
              "      <td>1584.000000</td>\n",
              "    </tr>\n",
              "  </tbody>\n",
              "</table>\n",
              "</div>"
            ],
            "application/vnd.google.colaboratory.intrinsic+json": {
              "type": "dataframe",
              "summary": "{\n  \"name\": \"data\",\n  \"rows\": 8,\n  \"fields\": [\n    {\n      \"column\": \"Age\",\n      \"properties\": {\n        \"dtype\": \"number\",\n        \"std\": 36722.26025761614,\n        \"min\": 7.0,\n        \"max\": 103904.0,\n        \"num_unique_values\": 8,\n        \"samples\": [\n          51.0,\n          7.0,\n          103904.0\n        ],\n        \"semantic_type\": \"\",\n        \"description\": \"\"\n      }\n    },\n    {\n      \"column\": \"Flight Distance\",\n      \"properties\": {\n        \"dtype\": \"number\",\n        \"std\": 36252.525638930885,\n        \"min\": 31.0,\n        \"max\": 103904.0,\n        \"num_unique_values\": 8,\n        \"samples\": [\n          1743.0,\n          31.0,\n          103904.0\n        ],\n        \"semantic_type\": \"\",\n        \"description\": \"\"\n      }\n    },\n    {\n      \"column\": \"Departure Delay in Minutes\",\n      \"properties\": {\n        \"dtype\": \"number\",\n        \"std\": 36656.096135628395,\n        \"min\": 0.0,\n        \"max\": 103904.0,\n        \"num_unique_values\": 6,\n        \"samples\": [\n          0.0,\n          103904.0,\n          12.0\n        ],\n        \"semantic_type\": \"\",\n        \"description\": \"\"\n      }\n    },\n    {\n      \"column\": \"Arrival Delay in Minutes\",\n      \"properties\": {\n        \"dtype\": \"number\",\n        \"std\": 36656.36883392123,\n        \"min\": 0.0,\n        \"max\": 103904.0,\n        \"num_unique_values\": 6,\n        \"samples\": [\n          0.0,\n          103904.0,\n          13.0\n        ],\n        \"semantic_type\": \"\",\n        \"description\": \"\"\n      }\n    }\n  ]\n}"
            }
          },
          "metadata": {},
          "execution_count": 12
        }
      ]
    },
    {
      "cell_type": "markdown",
      "source": [
        "This table shows that there are no more missing values."
      ],
      "metadata": {
        "id": "bHEadAsi-cmJ"
      }
    },
    {
      "cell_type": "markdown",
      "source": [
        "<div style=\"border-width:1; border-radius: 15px; border-style: solid; border-color: rgb(10, 10, 10); background-color: #52ab98; text-align: center;font: 14pt 'Candara';font-weight:bold;\"><h1>Handling categorical features</h1></div>"
      ],
      "metadata": {
        "id": "xFA8kaWp-cmJ"
      }
    },
    {
      "cell_type": "markdown",
      "source": [
        "We divide the signs into quantitative and categorical:"
      ],
      "metadata": {
        "id": "iM_neRGq-cmK"
      }
    },
    {
      "cell_type": "markdown",
      "source": [
        "We divide categorical features into binary and non-binary:"
      ],
      "metadata": {
        "id": "uL_sMuSB-cmK"
      }
    },
    {
      "cell_type": "code",
      "source": [
        "\n",
        "binary_columns = [c for c in categorical_columns if data[c].nunique() == 2 and c != 'satisfaction']\n",
        "nonbinary_columns = [c for c in categorical_columns if data[c].nunique() > 2]\n",
        "\n",
        "print(\"Binary columns:\", binary_columns)\n",
        "print(\"Non-binary columns:\", nonbinary_columns)"
      ],
      "metadata": {
        "execution": {
          "iopub.status.busy": "2022-08-01T21:03:46.500946Z",
          "iopub.execute_input": "2022-08-01T21:03:46.501316Z",
          "iopub.status.idle": "2022-08-01T21:03:46.510106Z",
          "shell.execute_reply.started": "2022-08-01T21:03:46.501284Z",
          "shell.execute_reply": "2022-08-01T21:03:46.508502Z"
        },
        "trusted": true,
        "colab": {
          "base_uri": "https://localhost:8080/",
          "height": 0
        },
        "id": "0N5RwEwH-cmK",
        "outputId": "2d2f16d3-ffce-4528-9a47-db233c17df21"
      },
      "execution_count": 13,
      "outputs": [
        {
          "output_type": "stream",
          "name": "stdout",
          "text": [
            "Binary columns: ['Gender', 'Customer Type', 'Type of Travel']\n",
            "Non-binary columns: ['Class', 'Inflight wifi service', 'Departure/Arrival time convenient', 'Ease of Online booking', 'Gate location', 'Food and drink', 'Online boarding', 'Seat comfort', 'Inflight entertainment', 'On-board service', 'Leg room service', 'Baggage handling', 'Checkin service', 'Inflight service', 'Cleanliness']\n"
          ]
        }
      ]
    },
    {
      "cell_type": "markdown",
      "source": [
        "Let's look at the unique values for each binary feature:"
      ],
      "metadata": {
        "id": "FBtc20j0-cmL"
      }
    },
    {
      "cell_type": "code",
      "source": [
        "for col in binary_columns:\n",
        "    print(col, ': ', end = '')\n",
        "    for uniq in data[col].unique():\n",
        "        if uniq == data[col].unique()[-1]:\n",
        "            print(uniq, end = '.')\n",
        "        else:\n",
        "            print(uniq, end = ', ')\n",
        "    print()"
      ],
      "metadata": {
        "execution": {
          "iopub.status.busy": "2022-08-01T21:03:46.511973Z",
          "iopub.execute_input": "2022-08-01T21:03:46.5127Z",
          "iopub.status.idle": "2022-08-01T21:03:46.529809Z",
          "shell.execute_reply.started": "2022-08-01T21:03:46.512668Z",
          "shell.execute_reply": "2022-08-01T21:03:46.528654Z"
        },
        "trusted": true,
        "id": "w4N-593h-cmL",
        "colab": {
          "base_uri": "https://localhost:8080/",
          "height": 0
        },
        "outputId": "00e33313-6684-4c7f-eea5-bff0c94249f5"
      },
      "execution_count": 14,
      "outputs": [
        {
          "output_type": "stream",
          "name": "stdout",
          "text": [
            "Gender : Male, Female.\n",
            "Customer Type : Loyal Customer, disloyal Customer.\n",
            "Type of Travel : Personal Travel, Business travel.\n"
          ]
        }
      ]
    },
    {
      "cell_type": "markdown",
      "source": [
        "Let's do the binarization:"
      ],
      "metadata": {
        "id": "qhkPRX5K-cmL"
      }
    },
    {
      "cell_type": "code",
      "source": [
        "for col in binary_columns:\n",
        "    data[col] = data[col].astype('object')\n",
        "    k = 0\n",
        "    for uniq in data[col].unique():\n",
        "        data.at[data[col] == uniq, col] = k\n",
        "        k +=1\n",
        "for col in binary_columns:\n",
        "    print(data[col].describe(), end = '\\n\\n')"
      ],
      "metadata": {
        "execution": {
          "iopub.status.busy": "2022-08-01T21:03:46.53139Z",
          "iopub.execute_input": "2022-08-01T21:03:46.531762Z",
          "iopub.status.idle": "2022-08-01T21:03:46.772204Z",
          "shell.execute_reply.started": "2022-08-01T21:03:46.531731Z",
          "shell.execute_reply": "2022-08-01T21:03:46.771002Z"
        },
        "trusted": true,
        "id": "gbmgapcG-cmg",
        "colab": {
          "base_uri": "https://localhost:8080/",
          "height": 0
        },
        "outputId": "d62f6d72-3c95-4f85-8fd5-b257f5a6793e"
      },
      "execution_count": 15,
      "outputs": [
        {
          "output_type": "stream",
          "name": "stdout",
          "text": [
            "count     103904\n",
            "unique         2\n",
            "top            1\n",
            "freq       52727\n",
            "Name: Gender, dtype: object\n",
            "\n",
            "count     103904\n",
            "unique         2\n",
            "top            0\n",
            "freq       84923\n",
            "Name: Customer Type, dtype: object\n",
            "\n",
            "count     103904\n",
            "unique         2\n",
            "top            1\n",
            "freq       71655\n",
            "Name: Type of Travel, dtype: object\n",
            "\n"
          ]
        }
      ]
    },
    {
      "cell_type": "markdown",
      "source": [
        "Now let's look at non-binary categorical features:"
      ],
      "metadata": {
        "id": "ldgf44av-cmg"
      }
    },
    {
      "cell_type": "code",
      "source": [
        "data[nonbinary_columns]"
      ],
      "metadata": {
        "execution": {
          "iopub.status.busy": "2022-08-01T21:03:46.773969Z",
          "iopub.execute_input": "2022-08-01T21:03:46.774329Z",
          "iopub.status.idle": "2022-08-01T21:03:46.81212Z",
          "shell.execute_reply.started": "2022-08-01T21:03:46.774296Z",
          "shell.execute_reply": "2022-08-01T21:03:46.810918Z"
        },
        "trusted": true,
        "id": "C9U9ozut-cmg",
        "colab": {
          "base_uri": "https://localhost:8080/",
          "height": 478
        },
        "outputId": "8a3d6dc1-f9ed-425c-fc5c-ebedda3eae63"
      },
      "execution_count": 16,
      "outputs": [
        {
          "output_type": "execute_result",
          "data": {
            "text/plain": [
              "           Class Inflight wifi service Departure/Arrival time convenient  \\\n",
              "0       Eco Plus                     3                                 4   \n",
              "1       Business                     3                                 2   \n",
              "2       Business                     2                                 2   \n",
              "3       Business                     2                                 5   \n",
              "4       Business                     3                                 3   \n",
              "...          ...                   ...                               ...   \n",
              "103899       Eco                     2                                 1   \n",
              "103900  Business                     4                                 4   \n",
              "103901  Business                     1                                 1   \n",
              "103902       Eco                     1                                 1   \n",
              "103903  Business                     1                                 3   \n",
              "\n",
              "       Ease of Online booking Gate location Food and drink Online boarding  \\\n",
              "0                           3             1              5               3   \n",
              "1                           3             3              1               3   \n",
              "2                           2             2              5               5   \n",
              "3                           5             5              2               2   \n",
              "4                           3             3              4               5   \n",
              "...                       ...           ...            ...             ...   \n",
              "103899                      2             3              2               2   \n",
              "103900                      4             4              2               4   \n",
              "103901                      1             3              4               1   \n",
              "103902                      1             5              1               1   \n",
              "103903                      3             3              1               1   \n",
              "\n",
              "       Seat comfort Inflight entertainment On-board service Leg room service  \\\n",
              "0                 5                      5                4                3   \n",
              "1                 1                      1                1                5   \n",
              "2                 5                      5                4                3   \n",
              "3                 2                      2                2                5   \n",
              "4                 5                      3                3                4   \n",
              "...             ...                    ...              ...              ...   \n",
              "103899            2                      2                3                1   \n",
              "103900            5                      5                5                5   \n",
              "103901            5                      4                3                2   \n",
              "103902            1                      1                4                5   \n",
              "103903            1                      1                1                1   \n",
              "\n",
              "       Baggage handling Checkin service Inflight service Cleanliness  \n",
              "0                     4               4                5           5  \n",
              "1                     3               1                4           1  \n",
              "2                     4               4                4           5  \n",
              "3                     3               1                4           2  \n",
              "4                     4               3                3           3  \n",
              "...                 ...             ...              ...         ...  \n",
              "103899                4               2                3           2  \n",
              "103900                5               5                5           4  \n",
              "103901                4               5                5           4  \n",
              "103902                1               5                4           1  \n",
              "103903                4               4                3           1  \n",
              "\n",
              "[103904 rows x 15 columns]"
            ],
            "text/html": [
              "<div>\n",
              "<style scoped>\n",
              "    .dataframe tbody tr th:only-of-type {\n",
              "        vertical-align: middle;\n",
              "    }\n",
              "\n",
              "    .dataframe tbody tr th {\n",
              "        vertical-align: top;\n",
              "    }\n",
              "\n",
              "    .dataframe thead th {\n",
              "        text-align: right;\n",
              "    }\n",
              "</style>\n",
              "<table border=\"1\" class=\"dataframe\">\n",
              "  <thead>\n",
              "    <tr style=\"text-align: right;\">\n",
              "      <th></th>\n",
              "      <th>Class</th>\n",
              "      <th>Inflight wifi service</th>\n",
              "      <th>Departure/Arrival time convenient</th>\n",
              "      <th>Ease of Online booking</th>\n",
              "      <th>Gate location</th>\n",
              "      <th>Food and drink</th>\n",
              "      <th>Online boarding</th>\n",
              "      <th>Seat comfort</th>\n",
              "      <th>Inflight entertainment</th>\n",
              "      <th>On-board service</th>\n",
              "      <th>Leg room service</th>\n",
              "      <th>Baggage handling</th>\n",
              "      <th>Checkin service</th>\n",
              "      <th>Inflight service</th>\n",
              "      <th>Cleanliness</th>\n",
              "    </tr>\n",
              "  </thead>\n",
              "  <tbody>\n",
              "    <tr>\n",
              "      <th>0</th>\n",
              "      <td>Eco Plus</td>\n",
              "      <td>3</td>\n",
              "      <td>4</td>\n",
              "      <td>3</td>\n",
              "      <td>1</td>\n",
              "      <td>5</td>\n",
              "      <td>3</td>\n",
              "      <td>5</td>\n",
              "      <td>5</td>\n",
              "      <td>4</td>\n",
              "      <td>3</td>\n",
              "      <td>4</td>\n",
              "      <td>4</td>\n",
              "      <td>5</td>\n",
              "      <td>5</td>\n",
              "    </tr>\n",
              "    <tr>\n",
              "      <th>1</th>\n",
              "      <td>Business</td>\n",
              "      <td>3</td>\n",
              "      <td>2</td>\n",
              "      <td>3</td>\n",
              "      <td>3</td>\n",
              "      <td>1</td>\n",
              "      <td>3</td>\n",
              "      <td>1</td>\n",
              "      <td>1</td>\n",
              "      <td>1</td>\n",
              "      <td>5</td>\n",
              "      <td>3</td>\n",
              "      <td>1</td>\n",
              "      <td>4</td>\n",
              "      <td>1</td>\n",
              "    </tr>\n",
              "    <tr>\n",
              "      <th>2</th>\n",
              "      <td>Business</td>\n",
              "      <td>2</td>\n",
              "      <td>2</td>\n",
              "      <td>2</td>\n",
              "      <td>2</td>\n",
              "      <td>5</td>\n",
              "      <td>5</td>\n",
              "      <td>5</td>\n",
              "      <td>5</td>\n",
              "      <td>4</td>\n",
              "      <td>3</td>\n",
              "      <td>4</td>\n",
              "      <td>4</td>\n",
              "      <td>4</td>\n",
              "      <td>5</td>\n",
              "    </tr>\n",
              "    <tr>\n",
              "      <th>3</th>\n",
              "      <td>Business</td>\n",
              "      <td>2</td>\n",
              "      <td>5</td>\n",
              "      <td>5</td>\n",
              "      <td>5</td>\n",
              "      <td>2</td>\n",
              "      <td>2</td>\n",
              "      <td>2</td>\n",
              "      <td>2</td>\n",
              "      <td>2</td>\n",
              "      <td>5</td>\n",
              "      <td>3</td>\n",
              "      <td>1</td>\n",
              "      <td>4</td>\n",
              "      <td>2</td>\n",
              "    </tr>\n",
              "    <tr>\n",
              "      <th>4</th>\n",
              "      <td>Business</td>\n",
              "      <td>3</td>\n",
              "      <td>3</td>\n",
              "      <td>3</td>\n",
              "      <td>3</td>\n",
              "      <td>4</td>\n",
              "      <td>5</td>\n",
              "      <td>5</td>\n",
              "      <td>3</td>\n",
              "      <td>3</td>\n",
              "      <td>4</td>\n",
              "      <td>4</td>\n",
              "      <td>3</td>\n",
              "      <td>3</td>\n",
              "      <td>3</td>\n",
              "    </tr>\n",
              "    <tr>\n",
              "      <th>...</th>\n",
              "      <td>...</td>\n",
              "      <td>...</td>\n",
              "      <td>...</td>\n",
              "      <td>...</td>\n",
              "      <td>...</td>\n",
              "      <td>...</td>\n",
              "      <td>...</td>\n",
              "      <td>...</td>\n",
              "      <td>...</td>\n",
              "      <td>...</td>\n",
              "      <td>...</td>\n",
              "      <td>...</td>\n",
              "      <td>...</td>\n",
              "      <td>...</td>\n",
              "      <td>...</td>\n",
              "    </tr>\n",
              "    <tr>\n",
              "      <th>103899</th>\n",
              "      <td>Eco</td>\n",
              "      <td>2</td>\n",
              "      <td>1</td>\n",
              "      <td>2</td>\n",
              "      <td>3</td>\n",
              "      <td>2</td>\n",
              "      <td>2</td>\n",
              "      <td>2</td>\n",
              "      <td>2</td>\n",
              "      <td>3</td>\n",
              "      <td>1</td>\n",
              "      <td>4</td>\n",
              "      <td>2</td>\n",
              "      <td>3</td>\n",
              "      <td>2</td>\n",
              "    </tr>\n",
              "    <tr>\n",
              "      <th>103900</th>\n",
              "      <td>Business</td>\n",
              "      <td>4</td>\n",
              "      <td>4</td>\n",
              "      <td>4</td>\n",
              "      <td>4</td>\n",
              "      <td>2</td>\n",
              "      <td>4</td>\n",
              "      <td>5</td>\n",
              "      <td>5</td>\n",
              "      <td>5</td>\n",
              "      <td>5</td>\n",
              "      <td>5</td>\n",
              "      <td>5</td>\n",
              "      <td>5</td>\n",
              "      <td>4</td>\n",
              "    </tr>\n",
              "    <tr>\n",
              "      <th>103901</th>\n",
              "      <td>Business</td>\n",
              "      <td>1</td>\n",
              "      <td>1</td>\n",
              "      <td>1</td>\n",
              "      <td>3</td>\n",
              "      <td>4</td>\n",
              "      <td>1</td>\n",
              "      <td>5</td>\n",
              "      <td>4</td>\n",
              "      <td>3</td>\n",
              "      <td>2</td>\n",
              "      <td>4</td>\n",
              "      <td>5</td>\n",
              "      <td>5</td>\n",
              "      <td>4</td>\n",
              "    </tr>\n",
              "    <tr>\n",
              "      <th>103902</th>\n",
              "      <td>Eco</td>\n",
              "      <td>1</td>\n",
              "      <td>1</td>\n",
              "      <td>1</td>\n",
              "      <td>5</td>\n",
              "      <td>1</td>\n",
              "      <td>1</td>\n",
              "      <td>1</td>\n",
              "      <td>1</td>\n",
              "      <td>4</td>\n",
              "      <td>5</td>\n",
              "      <td>1</td>\n",
              "      <td>5</td>\n",
              "      <td>4</td>\n",
              "      <td>1</td>\n",
              "    </tr>\n",
              "    <tr>\n",
              "      <th>103903</th>\n",
              "      <td>Business</td>\n",
              "      <td>1</td>\n",
              "      <td>3</td>\n",
              "      <td>3</td>\n",
              "      <td>3</td>\n",
              "      <td>1</td>\n",
              "      <td>1</td>\n",
              "      <td>1</td>\n",
              "      <td>1</td>\n",
              "      <td>1</td>\n",
              "      <td>1</td>\n",
              "      <td>4</td>\n",
              "      <td>4</td>\n",
              "      <td>3</td>\n",
              "      <td>1</td>\n",
              "    </tr>\n",
              "  </tbody>\n",
              "</table>\n",
              "<p>103904 rows × 15 columns</p>\n",
              "</div>"
            ],
            "application/vnd.google.colaboratory.intrinsic+json": {
              "type": "dataframe"
            }
          },
          "metadata": {},
          "execution_count": 16
        }
      ]
    },
    {
      "cell_type": "markdown",
      "source": [
        "The following vectorization method is applicable to non-binary features:\n",
        "\n",
        "The feature j, which takes s values, will be replaced by s features, which take the values 0 or 1, depending on what the value of the original feature j is.\n",
        "\n",
        "This vectorization is carried out by the get_dummies method:"
      ],
      "metadata": {
        "id": "RDUsIu2s-cmg"
      }
    },
    {
      "cell_type": "code",
      "source": [
        "data_nonbinary = pd.get_dummies(data[nonbinary_columns])\n",
        "print(data_nonbinary.columns)"
      ],
      "metadata": {
        "execution": {
          "iopub.status.busy": "2022-08-01T21:03:46.813888Z",
          "iopub.execute_input": "2022-08-01T21:03:46.814242Z",
          "iopub.status.idle": "2022-08-01T21:03:46.891895Z",
          "shell.execute_reply.started": "2022-08-01T21:03:46.81421Z",
          "shell.execute_reply": "2022-08-01T21:03:46.890604Z"
        },
        "trusted": true,
        "id": "mVt32qRN-cmg",
        "colab": {
          "base_uri": "https://localhost:8080/",
          "height": 0
        },
        "outputId": "b5619302-f572-468f-9043-7261d06805b2"
      },
      "execution_count": 17,
      "outputs": [
        {
          "output_type": "stream",
          "name": "stdout",
          "text": [
            "Index(['Class_Business', 'Class_Eco', 'Class_Eco Plus',\n",
            "       'Inflight wifi service_0', 'Inflight wifi service_1',\n",
            "       'Inflight wifi service_2', 'Inflight wifi service_3',\n",
            "       'Inflight wifi service_4', 'Inflight wifi service_5',\n",
            "       'Departure/Arrival time convenient_0',\n",
            "       'Departure/Arrival time convenient_1',\n",
            "       'Departure/Arrival time convenient_2',\n",
            "       'Departure/Arrival time convenient_3',\n",
            "       'Departure/Arrival time convenient_4',\n",
            "       'Departure/Arrival time convenient_5', 'Ease of Online booking_0',\n",
            "       'Ease of Online booking_1', 'Ease of Online booking_2',\n",
            "       'Ease of Online booking_3', 'Ease of Online booking_4',\n",
            "       'Ease of Online booking_5', 'Gate location_0', 'Gate location_1',\n",
            "       'Gate location_2', 'Gate location_3', 'Gate location_4',\n",
            "       'Gate location_5', 'Food and drink_0', 'Food and drink_1',\n",
            "       'Food and drink_2', 'Food and drink_3', 'Food and drink_4',\n",
            "       'Food and drink_5', 'Online boarding_0', 'Online boarding_1',\n",
            "       'Online boarding_2', 'Online boarding_3', 'Online boarding_4',\n",
            "       'Online boarding_5', 'Seat comfort_0', 'Seat comfort_1',\n",
            "       'Seat comfort_2', 'Seat comfort_3', 'Seat comfort_4', 'Seat comfort_5',\n",
            "       'Inflight entertainment_0', 'Inflight entertainment_1',\n",
            "       'Inflight entertainment_2', 'Inflight entertainment_3',\n",
            "       'Inflight entertainment_4', 'Inflight entertainment_5',\n",
            "       'On-board service_0', 'On-board service_1', 'On-board service_2',\n",
            "       'On-board service_3', 'On-board service_4', 'On-board service_5',\n",
            "       'Leg room service_0', 'Leg room service_1', 'Leg room service_2',\n",
            "       'Leg room service_3', 'Leg room service_4', 'Leg room service_5',\n",
            "       'Baggage handling_1', 'Baggage handling_2', 'Baggage handling_3',\n",
            "       'Baggage handling_4', 'Baggage handling_5', 'Checkin service_0',\n",
            "       'Checkin service_1', 'Checkin service_2', 'Checkin service_3',\n",
            "       'Checkin service_4', 'Checkin service_5', 'Inflight service_0',\n",
            "       'Inflight service_1', 'Inflight service_2', 'Inflight service_3',\n",
            "       'Inflight service_4', 'Inflight service_5', 'Cleanliness_0',\n",
            "       'Cleanliness_1', 'Cleanliness_2', 'Cleanliness_3', 'Cleanliness_4',\n",
            "       'Cleanliness_5'],\n",
            "      dtype='object')\n"
          ]
        }
      ]
    },
    {
      "cell_type": "code",
      "source": [
        "len(data_nonbinary.columns)"
      ],
      "metadata": {
        "execution": {
          "iopub.status.busy": "2022-08-01T21:03:46.893227Z",
          "iopub.execute_input": "2022-08-01T21:03:46.893595Z",
          "iopub.status.idle": "2022-08-01T21:03:46.901779Z",
          "shell.execute_reply.started": "2022-08-01T21:03:46.893563Z",
          "shell.execute_reply": "2022-08-01T21:03:46.90032Z"
        },
        "trusted": true,
        "id": "2NVjS6lw-cmg",
        "colab": {
          "base_uri": "https://localhost:8080/",
          "height": 0
        },
        "outputId": "6ca55159-d85c-4189-83e0-953912be7d3c"
      },
      "execution_count": 18,
      "outputs": [
        {
          "output_type": "execute_result",
          "data": {
            "text/plain": [
              "86"
            ]
          },
          "metadata": {},
          "execution_count": 18
        }
      ]
    },
    {
      "cell_type": "markdown",
      "source": [
        "<div style=\"border-width:1; border-radius: 15px; border-style: solid; border-color: rgb(10, 10, 10); background-color: #52ab98; text-align: center;font: 14pt 'Candara';font-weight:bold;\"><h1>Normalization of quantitative features</h1></div>"
      ],
      "metadata": {
        "id": "VtD8aiOW-cmh"
      }
    },
    {
      "cell_type": "markdown",
      "source": [
        "We have the following quantitative characteristics:"
      ],
      "metadata": {
        "id": "zWxk2wq9-cmh"
      }
    },
    {
      "cell_type": "code",
      "source": [
        "data_numerical = data[numerical_columns]\n",
        "data_numerical.describe()"
      ],
      "metadata": {
        "execution": {
          "iopub.status.busy": "2022-08-01T21:03:46.903721Z",
          "iopub.execute_input": "2022-08-01T21:03:46.904131Z",
          "iopub.status.idle": "2022-08-01T21:03:46.945505Z",
          "shell.execute_reply.started": "2022-08-01T21:03:46.904082Z",
          "shell.execute_reply": "2022-08-01T21:03:46.944621Z"
        },
        "trusted": true,
        "id": "PYyweFlO-cmh",
        "colab": {
          "base_uri": "https://localhost:8080/",
          "height": 300
        },
        "outputId": "03021ba4-1b0a-4491-d2cb-2a290cb11597"
      },
      "execution_count": 19,
      "outputs": [
        {
          "output_type": "execute_result",
          "data": {
            "text/plain": [
              "                 Age  Flight Distance  Departure Delay in Minutes  \\\n",
              "count  103904.000000    103904.000000               103904.000000   \n",
              "mean       39.379706      1189.448375                   14.815618   \n",
              "std        15.114964       997.147281                   38.230901   \n",
              "min         7.000000        31.000000                    0.000000   \n",
              "25%        27.000000       414.000000                    0.000000   \n",
              "50%        40.000000       843.000000                    0.000000   \n",
              "75%        51.000000      1743.000000                   12.000000   \n",
              "max        85.000000      4983.000000                 1592.000000   \n",
              "\n",
              "       Arrival Delay in Minutes  \n",
              "count             103904.000000  \n",
              "mean                  15.133392  \n",
              "std                   38.649776  \n",
              "min                    0.000000  \n",
              "25%                    0.000000  \n",
              "50%                    0.000000  \n",
              "75%                   13.000000  \n",
              "max                 1584.000000  "
            ],
            "text/html": [
              "<div>\n",
              "<style scoped>\n",
              "    .dataframe tbody tr th:only-of-type {\n",
              "        vertical-align: middle;\n",
              "    }\n",
              "\n",
              "    .dataframe tbody tr th {\n",
              "        vertical-align: top;\n",
              "    }\n",
              "\n",
              "    .dataframe thead th {\n",
              "        text-align: right;\n",
              "    }\n",
              "</style>\n",
              "<table border=\"1\" class=\"dataframe\">\n",
              "  <thead>\n",
              "    <tr style=\"text-align: right;\">\n",
              "      <th></th>\n",
              "      <th>Age</th>\n",
              "      <th>Flight Distance</th>\n",
              "      <th>Departure Delay in Minutes</th>\n",
              "      <th>Arrival Delay in Minutes</th>\n",
              "    </tr>\n",
              "  </thead>\n",
              "  <tbody>\n",
              "    <tr>\n",
              "      <th>count</th>\n",
              "      <td>103904.000000</td>\n",
              "      <td>103904.000000</td>\n",
              "      <td>103904.000000</td>\n",
              "      <td>103904.000000</td>\n",
              "    </tr>\n",
              "    <tr>\n",
              "      <th>mean</th>\n",
              "      <td>39.379706</td>\n",
              "      <td>1189.448375</td>\n",
              "      <td>14.815618</td>\n",
              "      <td>15.133392</td>\n",
              "    </tr>\n",
              "    <tr>\n",
              "      <th>std</th>\n",
              "      <td>15.114964</td>\n",
              "      <td>997.147281</td>\n",
              "      <td>38.230901</td>\n",
              "      <td>38.649776</td>\n",
              "    </tr>\n",
              "    <tr>\n",
              "      <th>min</th>\n",
              "      <td>7.000000</td>\n",
              "      <td>31.000000</td>\n",
              "      <td>0.000000</td>\n",
              "      <td>0.000000</td>\n",
              "    </tr>\n",
              "    <tr>\n",
              "      <th>25%</th>\n",
              "      <td>27.000000</td>\n",
              "      <td>414.000000</td>\n",
              "      <td>0.000000</td>\n",
              "      <td>0.000000</td>\n",
              "    </tr>\n",
              "    <tr>\n",
              "      <th>50%</th>\n",
              "      <td>40.000000</td>\n",
              "      <td>843.000000</td>\n",
              "      <td>0.000000</td>\n",
              "      <td>0.000000</td>\n",
              "    </tr>\n",
              "    <tr>\n",
              "      <th>75%</th>\n",
              "      <td>51.000000</td>\n",
              "      <td>1743.000000</td>\n",
              "      <td>12.000000</td>\n",
              "      <td>13.000000</td>\n",
              "    </tr>\n",
              "    <tr>\n",
              "      <th>max</th>\n",
              "      <td>85.000000</td>\n",
              "      <td>4983.000000</td>\n",
              "      <td>1592.000000</td>\n",
              "      <td>1584.000000</td>\n",
              "    </tr>\n",
              "  </tbody>\n",
              "</table>\n",
              "</div>"
            ],
            "application/vnd.google.colaboratory.intrinsic+json": {
              "type": "dataframe",
              "summary": "{\n  \"name\": \"data_numerical\",\n  \"rows\": 8,\n  \"fields\": [\n    {\n      \"column\": \"Age\",\n      \"properties\": {\n        \"dtype\": \"number\",\n        \"std\": 36722.26025761614,\n        \"min\": 7.0,\n        \"max\": 103904.0,\n        \"num_unique_values\": 8,\n        \"samples\": [\n          51.0,\n          7.0,\n          103904.0\n        ],\n        \"semantic_type\": \"\",\n        \"description\": \"\"\n      }\n    },\n    {\n      \"column\": \"Flight Distance\",\n      \"properties\": {\n        \"dtype\": \"number\",\n        \"std\": 36252.525638930885,\n        \"min\": 31.0,\n        \"max\": 103904.0,\n        \"num_unique_values\": 8,\n        \"samples\": [\n          1743.0,\n          31.0,\n          103904.0\n        ],\n        \"semantic_type\": \"\",\n        \"description\": \"\"\n      }\n    },\n    {\n      \"column\": \"Departure Delay in Minutes\",\n      \"properties\": {\n        \"dtype\": \"number\",\n        \"std\": 36656.096135628395,\n        \"min\": 0.0,\n        \"max\": 103904.0,\n        \"num_unique_values\": 6,\n        \"samples\": [\n          0.0,\n          103904.0,\n          12.0\n        ],\n        \"semantic_type\": \"\",\n        \"description\": \"\"\n      }\n    },\n    {\n      \"column\": \"Arrival Delay in Minutes\",\n      \"properties\": {\n        \"dtype\": \"number\",\n        \"std\": 36656.36883392123,\n        \"min\": 0.0,\n        \"max\": 103904.0,\n        \"num_unique_values\": 6,\n        \"samples\": [\n          0.0,\n          103904.0,\n          13.0\n        ],\n        \"semantic_type\": \"\",\n        \"description\": \"\"\n      }\n    }\n  ]\n}"
            }
          },
          "metadata": {},
          "execution_count": 19
        }
      ]
    },
    {
      "cell_type": "markdown",
      "source": [
        "Let's perform a <b>standardization</b> (<em>linear transformation that reduces all values to zero mean and one standard deviation</em>) of all quantitative features:"
      ],
      "metadata": {
        "id": "Hgwib8D0-cmh"
      }
    },
    {
      "cell_type": "code",
      "source": [
        "numerical_columns = data.select_dtypes(include=[\"number\"]).columns.tolist()\n",
        "data_numerical = data[numerical_columns]\n",
        "data_numerical = (data_numerical - data_numerical.mean(axis = 0))/data_numerical.std(axis = 0)\n"
      ],
      "metadata": {
        "execution": {
          "iopub.status.busy": "2022-08-01T21:03:46.946624Z",
          "iopub.execute_input": "2022-08-01T21:03:46.946936Z",
          "iopub.status.idle": "2022-08-01T21:03:46.961836Z",
          "shell.execute_reply.started": "2022-08-01T21:03:46.946907Z",
          "shell.execute_reply": "2022-08-01T21:03:46.960945Z"
        },
        "trusted": true,
        "id": "8KPKDkO_-cmh"
      },
      "execution_count": 20,
      "outputs": []
    },
    {
      "cell_type": "code",
      "source": [
        "data_numerical.describe()"
      ],
      "metadata": {
        "execution": {
          "iopub.status.busy": "2022-08-01T21:03:46.963208Z",
          "iopub.execute_input": "2022-08-01T21:03:46.964736Z",
          "iopub.status.idle": "2022-08-01T21:03:47.021163Z",
          "shell.execute_reply.started": "2022-08-01T21:03:46.964688Z",
          "shell.execute_reply": "2022-08-01T21:03:47.019909Z"
        },
        "trusted": true,
        "id": "5p2eFho_-cmh",
        "colab": {
          "base_uri": "https://localhost:8080/",
          "height": 300
        },
        "outputId": "0264c772-f270-40d7-e015-5bde8e6377ab"
      },
      "execution_count": 21,
      "outputs": [
        {
          "output_type": "execute_result",
          "data": {
            "text/plain": [
              "                 Age  Flight Distance  Departure Delay in Minutes  \\\n",
              "count  103904.000000    103904.000000               103904.000000   \n",
              "mean       -0.000000         0.000000                    0.000000   \n",
              "std         1.000000         1.000000                    1.000000   \n",
              "min        -2.142229        -1.161763                   -0.387530   \n",
              "25%        -0.819036        -0.777667                   -0.387530   \n",
              "50%         0.041038        -0.347440                   -0.387530   \n",
              "75%         0.768794         0.555135                   -0.073648   \n",
              "max         3.018221         3.804405                   41.254178   \n",
              "\n",
              "       Arrival Delay in Minutes  \n",
              "count             103904.000000  \n",
              "mean                   0.000000  \n",
              "std                    1.000000  \n",
              "min                   -0.391552  \n",
              "25%                   -0.391552  \n",
              "50%                   -0.391552  \n",
              "75%                   -0.055198  \n",
              "max                   40.591868  "
            ],
            "text/html": [
              "<div>\n",
              "<style scoped>\n",
              "    .dataframe tbody tr th:only-of-type {\n",
              "        vertical-align: middle;\n",
              "    }\n",
              "\n",
              "    .dataframe tbody tr th {\n",
              "        vertical-align: top;\n",
              "    }\n",
              "\n",
              "    .dataframe thead th {\n",
              "        text-align: right;\n",
              "    }\n",
              "</style>\n",
              "<table border=\"1\" class=\"dataframe\">\n",
              "  <thead>\n",
              "    <tr style=\"text-align: right;\">\n",
              "      <th></th>\n",
              "      <th>Age</th>\n",
              "      <th>Flight Distance</th>\n",
              "      <th>Departure Delay in Minutes</th>\n",
              "      <th>Arrival Delay in Minutes</th>\n",
              "    </tr>\n",
              "  </thead>\n",
              "  <tbody>\n",
              "    <tr>\n",
              "      <th>count</th>\n",
              "      <td>103904.000000</td>\n",
              "      <td>103904.000000</td>\n",
              "      <td>103904.000000</td>\n",
              "      <td>103904.000000</td>\n",
              "    </tr>\n",
              "    <tr>\n",
              "      <th>mean</th>\n",
              "      <td>-0.000000</td>\n",
              "      <td>0.000000</td>\n",
              "      <td>0.000000</td>\n",
              "      <td>0.000000</td>\n",
              "    </tr>\n",
              "    <tr>\n",
              "      <th>std</th>\n",
              "      <td>1.000000</td>\n",
              "      <td>1.000000</td>\n",
              "      <td>1.000000</td>\n",
              "      <td>1.000000</td>\n",
              "    </tr>\n",
              "    <tr>\n",
              "      <th>min</th>\n",
              "      <td>-2.142229</td>\n",
              "      <td>-1.161763</td>\n",
              "      <td>-0.387530</td>\n",
              "      <td>-0.391552</td>\n",
              "    </tr>\n",
              "    <tr>\n",
              "      <th>25%</th>\n",
              "      <td>-0.819036</td>\n",
              "      <td>-0.777667</td>\n",
              "      <td>-0.387530</td>\n",
              "      <td>-0.391552</td>\n",
              "    </tr>\n",
              "    <tr>\n",
              "      <th>50%</th>\n",
              "      <td>0.041038</td>\n",
              "      <td>-0.347440</td>\n",
              "      <td>-0.387530</td>\n",
              "      <td>-0.391552</td>\n",
              "    </tr>\n",
              "    <tr>\n",
              "      <th>75%</th>\n",
              "      <td>0.768794</td>\n",
              "      <td>0.555135</td>\n",
              "      <td>-0.073648</td>\n",
              "      <td>-0.055198</td>\n",
              "    </tr>\n",
              "    <tr>\n",
              "      <th>max</th>\n",
              "      <td>3.018221</td>\n",
              "      <td>3.804405</td>\n",
              "      <td>41.254178</td>\n",
              "      <td>40.591868</td>\n",
              "    </tr>\n",
              "  </tbody>\n",
              "</table>\n",
              "</div>"
            ],
            "application/vnd.google.colaboratory.intrinsic+json": {
              "type": "dataframe",
              "summary": "{\n  \"name\": \"data_numerical\",\n  \"rows\": 8,\n  \"fields\": [\n    {\n      \"column\": \"Age\",\n      \"properties\": {\n        \"dtype\": \"number\",\n        \"std\": 36735.517239240304,\n        \"min\": -2.142229,\n        \"max\": 103904.0,\n        \"num_unique_values\": 8,\n        \"samples\": [\n          0.768794,\n          -2.142229,\n          103904.0\n        ],\n        \"semantic_type\": \"\",\n        \"description\": \"\"\n      }\n    },\n    {\n      \"column\": \"Flight Distance\",\n      \"properties\": {\n        \"dtype\": \"number\",\n        \"std\": 36735.456335030955,\n        \"min\": -1.161763,\n        \"max\": 103904.0,\n        \"num_unique_values\": 8,\n        \"samples\": [\n          0.555135,\n          -1.161763,\n          103904.0\n        ],\n        \"semantic_type\": \"\",\n        \"description\": \"\"\n      }\n    },\n    {\n      \"column\": \"Departure Delay in Minutes\",\n      \"properties\": {\n        \"dtype\": \"number\",\n        \"std\": 36733.5426222115,\n        \"min\": -0.38753,\n        \"max\": 103904.0,\n        \"num_unique_values\": 6,\n        \"samples\": [\n          -0.38753,\n          103904.0,\n          -0.073648\n        ],\n        \"semantic_type\": \"\",\n        \"description\": \"\"\n      }\n    },\n    {\n      \"column\": \"Arrival Delay in Minutes\",\n      \"properties\": {\n        \"dtype\": \"number\",\n        \"std\": 36733.575660909904,\n        \"min\": -0.391552,\n        \"max\": 103904.0,\n        \"num_unique_values\": 6,\n        \"samples\": [\n          -0.391552,\n          103904.0,\n          -0.055198\n        ],\n        \"semantic_type\": \"\",\n        \"description\": \"\"\n      }\n    }\n  ]\n}"
            }
          },
          "metadata": {},
          "execution_count": 21
        }
      ]
    },
    {
      "cell_type": "markdown",
      "source": [
        "<div style=\"border-width:1; border-radius: 15px; border-style: solid; border-color: rgb(10, 10, 10); background-color: #52ab98; text-align: center;font: 14pt 'Candara';font-weight:bold;\"><h1>Final Table formation</h1></div>"
      ],
      "metadata": {
        "id": "2AMoIR9R-cmh"
      }
    },
    {
      "cell_type": "markdown",
      "source": [
        "We join all the transformed columns into one table:"
      ],
      "metadata": {
        "id": "nt1H_6tR-cmh"
      }
    },
    {
      "cell_type": "code",
      "source": [
        "target = data['satisfaction']\n",
        "data = pd.concat([data_numerical, data_nonbinary, data[binary_columns]], axis=1)\n",
        "print(\"Data shape after combining features:\", data.shape)\n",
        "data.columns()\n",
        "\n"
      ],
      "metadata": {
        "execution": {
          "iopub.status.busy": "2022-08-01T21:03:47.022905Z",
          "iopub.execute_input": "2022-08-01T21:03:47.023388Z",
          "iopub.status.idle": "2022-08-01T21:03:47.045775Z",
          "shell.execute_reply.started": "2022-08-01T21:03:47.023342Z",
          "shell.execute_reply": "2022-08-01T21:03:47.044463Z"
        },
        "trusted": true,
        "id": "O_304sLV-cmh",
        "colab": {
          "base_uri": "https://localhost:8080/",
          "height": 0
        },
        "outputId": "a4f926e5-026d-4e78-d32b-1a3faea624d6"
      },
      "execution_count": 22,
      "outputs": [
        {
          "output_type": "stream",
          "name": "stdout",
          "text": [
            "Data shape after combining features: (103904, 93)\n"
          ]
        },
        {
          "output_type": "execute_result",
          "data": {
            "text/plain": [
              "Index(['Age', 'Flight Distance', 'Departure Delay in Minutes',\n",
              "       'Arrival Delay in Minutes', 'Class_Business', 'Class_Eco',\n",
              "       'Class_Eco Plus', 'Inflight wifi service_0', 'Inflight wifi service_1',\n",
              "       'Inflight wifi service_2', 'Inflight wifi service_3',\n",
              "       'Inflight wifi service_4', 'Inflight wifi service_5',\n",
              "       'Departure/Arrival time convenient_0',\n",
              "       'Departure/Arrival time convenient_1',\n",
              "       'Departure/Arrival time convenient_2',\n",
              "       'Departure/Arrival time convenient_3',\n",
              "       'Departure/Arrival time convenient_4',\n",
              "       'Departure/Arrival time convenient_5', 'Ease of Online booking_0',\n",
              "       'Ease of Online booking_1', 'Ease of Online booking_2',\n",
              "       'Ease of Online booking_3', 'Ease of Online booking_4',\n",
              "       'Ease of Online booking_5', 'Gate location_0', 'Gate location_1',\n",
              "       'Gate location_2', 'Gate location_3', 'Gate location_4',\n",
              "       'Gate location_5', 'Food and drink_0', 'Food and drink_1',\n",
              "       'Food and drink_2', 'Food and drink_3', 'Food and drink_4',\n",
              "       'Food and drink_5', 'Online boarding_0', 'Online boarding_1',\n",
              "       'Online boarding_2', 'Online boarding_3', 'Online boarding_4',\n",
              "       'Online boarding_5', 'Seat comfort_0', 'Seat comfort_1',\n",
              "       'Seat comfort_2', 'Seat comfort_3', 'Seat comfort_4', 'Seat comfort_5',\n",
              "       'Inflight entertainment_0', 'Inflight entertainment_1',\n",
              "       'Inflight entertainment_2', 'Inflight entertainment_3',\n",
              "       'Inflight entertainment_4', 'Inflight entertainment_5',\n",
              "       'On-board service_0', 'On-board service_1', 'On-board service_2',\n",
              "       'On-board service_3', 'On-board service_4', 'On-board service_5',\n",
              "       'Leg room service_0', 'Leg room service_1', 'Leg room service_2',\n",
              "       'Leg room service_3', 'Leg room service_4', 'Leg room service_5',\n",
              "       'Baggage handling_1', 'Baggage handling_2', 'Baggage handling_3',\n",
              "       'Baggage handling_4', 'Baggage handling_5', 'Checkin service_0',\n",
              "       'Checkin service_1', 'Checkin service_2', 'Checkin service_3',\n",
              "       'Checkin service_4', 'Checkin service_5', 'Inflight service_0',\n",
              "       'Inflight service_1', 'Inflight service_2', 'Inflight service_3',\n",
              "       'Inflight service_4', 'Inflight service_5', 'Cleanliness_0',\n",
              "       'Cleanliness_1', 'Cleanliness_2', 'Cleanliness_3', 'Cleanliness_4',\n",
              "       'Cleanliness_5', 'Gender', 'Customer Type', 'Type of Travel'],\n",
              "      dtype='object')"
            ]
          },
          "metadata": {},
          "execution_count": 22
        }
      ]
    },
    {
      "cell_type": "markdown",
      "source": [
        "Now it looks like this:"
      ],
      "metadata": {
        "id": "SYl7z-8N-cmh"
      }
    },
    {
      "cell_type": "code",
      "source": [
        "data.describe()"
      ],
      "metadata": {
        "execution": {
          "iopub.status.busy": "2022-08-01T21:03:47.047582Z",
          "iopub.execute_input": "2022-08-01T21:03:47.048334Z",
          "iopub.status.idle": "2022-08-01T21:03:47.462132Z",
          "shell.execute_reply.started": "2022-08-01T21:03:47.048287Z",
          "shell.execute_reply": "2022-08-01T21:03:47.460887Z"
        },
        "trusted": true,
        "id": "Q_CAl675-cmh",
        "colab": {
          "base_uri": "https://localhost:8080/",
          "height": 300
        },
        "outputId": "d94b1c8d-7980-463d-e1a3-011f8717003b"
      },
      "execution_count": 23,
      "outputs": [
        {
          "output_type": "execute_result",
          "data": {
            "text/plain": [
              "                 Age  Flight Distance  Departure Delay in Minutes  \\\n",
              "count  103904.000000    103904.000000               103904.000000   \n",
              "mean       -0.000000         0.000000                    0.000000   \n",
              "std         1.000000         1.000000                    1.000000   \n",
              "min        -2.142229        -1.161763                   -0.387530   \n",
              "25%        -0.819036        -0.777667                   -0.387530   \n",
              "50%         0.041038        -0.347440                   -0.387530   \n",
              "75%         0.768794         0.555135                   -0.073648   \n",
              "max         3.018221         3.804405                   41.254178   \n",
              "\n",
              "       Arrival Delay in Minutes  \n",
              "count             103904.000000  \n",
              "mean                   0.000000  \n",
              "std                    1.000000  \n",
              "min                   -0.391552  \n",
              "25%                   -0.391552  \n",
              "50%                   -0.391552  \n",
              "75%                   -0.055198  \n",
              "max                   40.591868  "
            ],
            "text/html": [
              "<div>\n",
              "<style scoped>\n",
              "    .dataframe tbody tr th:only-of-type {\n",
              "        vertical-align: middle;\n",
              "    }\n",
              "\n",
              "    .dataframe tbody tr th {\n",
              "        vertical-align: top;\n",
              "    }\n",
              "\n",
              "    .dataframe thead th {\n",
              "        text-align: right;\n",
              "    }\n",
              "</style>\n",
              "<table border=\"1\" class=\"dataframe\">\n",
              "  <thead>\n",
              "    <tr style=\"text-align: right;\">\n",
              "      <th></th>\n",
              "      <th>Age</th>\n",
              "      <th>Flight Distance</th>\n",
              "      <th>Departure Delay in Minutes</th>\n",
              "      <th>Arrival Delay in Minutes</th>\n",
              "    </tr>\n",
              "  </thead>\n",
              "  <tbody>\n",
              "    <tr>\n",
              "      <th>count</th>\n",
              "      <td>103904.000000</td>\n",
              "      <td>103904.000000</td>\n",
              "      <td>103904.000000</td>\n",
              "      <td>103904.000000</td>\n",
              "    </tr>\n",
              "    <tr>\n",
              "      <th>mean</th>\n",
              "      <td>-0.000000</td>\n",
              "      <td>0.000000</td>\n",
              "      <td>0.000000</td>\n",
              "      <td>0.000000</td>\n",
              "    </tr>\n",
              "    <tr>\n",
              "      <th>std</th>\n",
              "      <td>1.000000</td>\n",
              "      <td>1.000000</td>\n",
              "      <td>1.000000</td>\n",
              "      <td>1.000000</td>\n",
              "    </tr>\n",
              "    <tr>\n",
              "      <th>min</th>\n",
              "      <td>-2.142229</td>\n",
              "      <td>-1.161763</td>\n",
              "      <td>-0.387530</td>\n",
              "      <td>-0.391552</td>\n",
              "    </tr>\n",
              "    <tr>\n",
              "      <th>25%</th>\n",
              "      <td>-0.819036</td>\n",
              "      <td>-0.777667</td>\n",
              "      <td>-0.387530</td>\n",
              "      <td>-0.391552</td>\n",
              "    </tr>\n",
              "    <tr>\n",
              "      <th>50%</th>\n",
              "      <td>0.041038</td>\n",
              "      <td>-0.347440</td>\n",
              "      <td>-0.387530</td>\n",
              "      <td>-0.391552</td>\n",
              "    </tr>\n",
              "    <tr>\n",
              "      <th>75%</th>\n",
              "      <td>0.768794</td>\n",
              "      <td>0.555135</td>\n",
              "      <td>-0.073648</td>\n",
              "      <td>-0.055198</td>\n",
              "    </tr>\n",
              "    <tr>\n",
              "      <th>max</th>\n",
              "      <td>3.018221</td>\n",
              "      <td>3.804405</td>\n",
              "      <td>41.254178</td>\n",
              "      <td>40.591868</td>\n",
              "    </tr>\n",
              "  </tbody>\n",
              "</table>\n",
              "</div>"
            ],
            "application/vnd.google.colaboratory.intrinsic+json": {
              "type": "dataframe",
              "summary": "{\n  \"name\": \"data\",\n  \"rows\": 8,\n  \"fields\": [\n    {\n      \"column\": \"Age\",\n      \"properties\": {\n        \"dtype\": \"number\",\n        \"std\": 36735.517239240304,\n        \"min\": -2.142229,\n        \"max\": 103904.0,\n        \"num_unique_values\": 8,\n        \"samples\": [\n          0.768794,\n          -2.142229,\n          103904.0\n        ],\n        \"semantic_type\": \"\",\n        \"description\": \"\"\n      }\n    },\n    {\n      \"column\": \"Flight Distance\",\n      \"properties\": {\n        \"dtype\": \"number\",\n        \"std\": 36735.456335030955,\n        \"min\": -1.161763,\n        \"max\": 103904.0,\n        \"num_unique_values\": 8,\n        \"samples\": [\n          0.555135,\n          -1.161763,\n          103904.0\n        ],\n        \"semantic_type\": \"\",\n        \"description\": \"\"\n      }\n    },\n    {\n      \"column\": \"Departure Delay in Minutes\",\n      \"properties\": {\n        \"dtype\": \"number\",\n        \"std\": 36733.5426222115,\n        \"min\": -0.38753,\n        \"max\": 103904.0,\n        \"num_unique_values\": 6,\n        \"samples\": [\n          -0.38753,\n          103904.0,\n          -0.073648\n        ],\n        \"semantic_type\": \"\",\n        \"description\": \"\"\n      }\n    },\n    {\n      \"column\": \"Arrival Delay in Minutes\",\n      \"properties\": {\n        \"dtype\": \"number\",\n        \"std\": 36733.575660909904,\n        \"min\": -0.391552,\n        \"max\": 103904.0,\n        \"num_unique_values\": 6,\n        \"samples\": [\n          -0.391552,\n          103904.0,\n          -0.055198\n        ],\n        \"semantic_type\": \"\",\n        \"description\": \"\"\n      }\n    }\n  ]\n}"
            }
          },
          "metadata": {},
          "execution_count": 23
        }
      ]
    },
    {
      "cell_type": "code",
      "source": [
        "corr_mat = data_numerical.corr()\n",
        "corr_mat"
      ],
      "metadata": {
        "id": "ZX-ZZ32fNEda",
        "colab": {
          "base_uri": "https://localhost:8080/",
          "height": 175
        },
        "outputId": "1b7bee39-a54f-4ec6-cba9-a246934fc8ca"
      },
      "execution_count": 24,
      "outputs": [
        {
          "output_type": "execute_result",
          "data": {
            "text/plain": [
              "                                 Age  Flight Distance  \\\n",
              "Age                         1.000000         0.099461   \n",
              "Flight Distance             0.099461         1.000000   \n",
              "Departure Delay in Minutes -0.010152         0.002158   \n",
              "Arrival Delay in Minutes   -0.012105        -0.002470   \n",
              "\n",
              "                            Departure Delay in Minutes  \\\n",
              "Age                                          -0.010152   \n",
              "Flight Distance                               0.002158   \n",
              "Departure Delay in Minutes                    1.000000   \n",
              "Arrival Delay in Minutes                      0.960247   \n",
              "\n",
              "                            Arrival Delay in Minutes  \n",
              "Age                                        -0.012105  \n",
              "Flight Distance                            -0.002470  \n",
              "Departure Delay in Minutes                  0.960247  \n",
              "Arrival Delay in Minutes                    1.000000  "
            ],
            "text/html": [
              "<div>\n",
              "<style scoped>\n",
              "    .dataframe tbody tr th:only-of-type {\n",
              "        vertical-align: middle;\n",
              "    }\n",
              "\n",
              "    .dataframe tbody tr th {\n",
              "        vertical-align: top;\n",
              "    }\n",
              "\n",
              "    .dataframe thead th {\n",
              "        text-align: right;\n",
              "    }\n",
              "</style>\n",
              "<table border=\"1\" class=\"dataframe\">\n",
              "  <thead>\n",
              "    <tr style=\"text-align: right;\">\n",
              "      <th></th>\n",
              "      <th>Age</th>\n",
              "      <th>Flight Distance</th>\n",
              "      <th>Departure Delay in Minutes</th>\n",
              "      <th>Arrival Delay in Minutes</th>\n",
              "    </tr>\n",
              "  </thead>\n",
              "  <tbody>\n",
              "    <tr>\n",
              "      <th>Age</th>\n",
              "      <td>1.000000</td>\n",
              "      <td>0.099461</td>\n",
              "      <td>-0.010152</td>\n",
              "      <td>-0.012105</td>\n",
              "    </tr>\n",
              "    <tr>\n",
              "      <th>Flight Distance</th>\n",
              "      <td>0.099461</td>\n",
              "      <td>1.000000</td>\n",
              "      <td>0.002158</td>\n",
              "      <td>-0.002470</td>\n",
              "    </tr>\n",
              "    <tr>\n",
              "      <th>Departure Delay in Minutes</th>\n",
              "      <td>-0.010152</td>\n",
              "      <td>0.002158</td>\n",
              "      <td>1.000000</td>\n",
              "      <td>0.960247</td>\n",
              "    </tr>\n",
              "    <tr>\n",
              "      <th>Arrival Delay in Minutes</th>\n",
              "      <td>-0.012105</td>\n",
              "      <td>-0.002470</td>\n",
              "      <td>0.960247</td>\n",
              "      <td>1.000000</td>\n",
              "    </tr>\n",
              "  </tbody>\n",
              "</table>\n",
              "</div>"
            ],
            "application/vnd.google.colaboratory.intrinsic+json": {
              "type": "dataframe",
              "variable_name": "corr_mat",
              "summary": "{\n  \"name\": \"corr_mat\",\n  \"rows\": 4,\n  \"fields\": [\n    {\n      \"column\": \"Age\",\n      \"properties\": {\n        \"dtype\": \"number\",\n        \"std\": 0.48991497031854564,\n        \"min\": -0.012104789905199156,\n        \"max\": 1.0,\n        \"num_unique_values\": 4,\n        \"samples\": [\n          -0.012104789905199156,\n          1.0,\n          0.09946084164551702\n        ],\n        \"semantic_type\": \"\",\n        \"description\": \"\"\n      }\n    },\n    {\n      \"column\": \"Flight Distance\",\n      \"properties\": {\n        \"dtype\": \"number\",\n        \"std\": 0.485754179694499,\n        \"min\": -0.0024703654716076713,\n        \"max\": 1.0,\n        \"num_unique_values\": 4,\n        \"samples\": [\n          -0.0024703654716076713,\n          0.09946084164551702,\n          1.0\n        ],\n        \"semantic_type\": \"\",\n        \"description\": \"\"\n      }\n    },\n    {\n      \"column\": \"Departure Delay in Minutes\",\n      \"properties\": {\n        \"dtype\": \"number\",\n        \"std\": 0.5684362727237937,\n        \"min\": -0.010152230154219982,\n        \"max\": 1.0,\n        \"num_unique_values\": 4,\n        \"samples\": [\n          0.9602470986642756,\n          -0.010152230154219982,\n          0.0021580114615675247\n        ],\n        \"semantic_type\": \"\",\n        \"description\": \"\"\n      }\n    },\n    {\n      \"column\": \"Arrival Delay in Minutes\",\n      \"properties\": {\n        \"dtype\": \"number\",\n        \"std\": 0.5703265998277837,\n        \"min\": -0.012104789905199156,\n        \"max\": 1.0,\n        \"num_unique_values\": 4,\n        \"samples\": [\n          1.0,\n          -0.012104789905199156,\n          -0.0024703654716076713\n        ],\n        \"semantic_type\": \"\",\n        \"description\": \"\"\n      }\n    }\n  ]\n}"
            }
          },
          "metadata": {},
          "execution_count": 24
        }
      ]
    },
    {
      "cell_type": "markdown",
      "source": [
        "### Splitting the data on training and test sets"
      ],
      "metadata": {
        "id": "RzFa1hU3-cmh"
      }
    },
    {
      "cell_type": "markdown",
      "source": [
        "Get <b>X</b> and <b>y</b>:"
      ],
      "metadata": {
        "id": "Ue9DGCSG-cmh"
      }
    },
    {
      "cell_type": "code",
      "source": [
        "X = data\n",
        "y = target\n",
        "N, d = X.shape\n",
        "N, d"
      ],
      "metadata": {
        "execution": {
          "iopub.status.busy": "2022-08-01T21:03:47.464025Z",
          "iopub.execute_input": "2022-08-01T21:03:47.464737Z",
          "iopub.status.idle": "2022-08-01T21:03:47.473129Z",
          "shell.execute_reply.started": "2022-08-01T21:03:47.464692Z",
          "shell.execute_reply": "2022-08-01T21:03:47.472005Z"
        },
        "trusted": true,
        "id": "cGC_35Ny-cmh",
        "colab": {
          "base_uri": "https://localhost:8080/",
          "height": 0
        },
        "outputId": "71bcc883-0175-4ec9-851c-1ae2dbc070d7"
      },
      "execution_count": 25,
      "outputs": [
        {
          "output_type": "execute_result",
          "data": {
            "text/plain": [
              "(103904, 93)"
            ]
          },
          "metadata": {},
          "execution_count": 25
        }
      ]
    },
    {
      "cell_type": "code",
      "source": [
        "X.columns"
      ],
      "metadata": {
        "execution": {
          "iopub.status.busy": "2022-08-01T21:03:47.474205Z",
          "iopub.execute_input": "2022-08-01T21:03:47.475208Z",
          "iopub.status.idle": "2022-08-01T21:03:47.486755Z",
          "shell.execute_reply.started": "2022-08-01T21:03:47.475172Z",
          "shell.execute_reply": "2022-08-01T21:03:47.485026Z"
        },
        "trusted": true,
        "id": "9veM-kbt-cmh",
        "colab": {
          "base_uri": "https://localhost:8080/",
          "height": 0
        },
        "outputId": "720d25d3-b776-48d2-9ae0-edacf7e8ae09"
      },
      "execution_count": 26,
      "outputs": [
        {
          "output_type": "execute_result",
          "data": {
            "text/plain": [
              "Index(['Age', 'Flight Distance', 'Departure Delay in Minutes',\n",
              "       'Arrival Delay in Minutes', 'Class_Business', 'Class_Eco',\n",
              "       'Class_Eco Plus', 'Inflight wifi service_0', 'Inflight wifi service_1',\n",
              "       'Inflight wifi service_2', 'Inflight wifi service_3',\n",
              "       'Inflight wifi service_4', 'Inflight wifi service_5',\n",
              "       'Departure/Arrival time convenient_0',\n",
              "       'Departure/Arrival time convenient_1',\n",
              "       'Departure/Arrival time convenient_2',\n",
              "       'Departure/Arrival time convenient_3',\n",
              "       'Departure/Arrival time convenient_4',\n",
              "       'Departure/Arrival time convenient_5', 'Ease of Online booking_0',\n",
              "       'Ease of Online booking_1', 'Ease of Online booking_2',\n",
              "       'Ease of Online booking_3', 'Ease of Online booking_4',\n",
              "       'Ease of Online booking_5', 'Gate location_0', 'Gate location_1',\n",
              "       'Gate location_2', 'Gate location_3', 'Gate location_4',\n",
              "       'Gate location_5', 'Food and drink_0', 'Food and drink_1',\n",
              "       'Food and drink_2', 'Food and drink_3', 'Food and drink_4',\n",
              "       'Food and drink_5', 'Online boarding_0', 'Online boarding_1',\n",
              "       'Online boarding_2', 'Online boarding_3', 'Online boarding_4',\n",
              "       'Online boarding_5', 'Seat comfort_0', 'Seat comfort_1',\n",
              "       'Seat comfort_2', 'Seat comfort_3', 'Seat comfort_4', 'Seat comfort_5',\n",
              "       'Inflight entertainment_0', 'Inflight entertainment_1',\n",
              "       'Inflight entertainment_2', 'Inflight entertainment_3',\n",
              "       'Inflight entertainment_4', 'Inflight entertainment_5',\n",
              "       'On-board service_0', 'On-board service_1', 'On-board service_2',\n",
              "       'On-board service_3', 'On-board service_4', 'On-board service_5',\n",
              "       'Leg room service_0', 'Leg room service_1', 'Leg room service_2',\n",
              "       'Leg room service_3', 'Leg room service_4', 'Leg room service_5',\n",
              "       'Baggage handling_1', 'Baggage handling_2', 'Baggage handling_3',\n",
              "       'Baggage handling_4', 'Baggage handling_5', 'Checkin service_0',\n",
              "       'Checkin service_1', 'Checkin service_2', 'Checkin service_3',\n",
              "       'Checkin service_4', 'Checkin service_5', 'Inflight service_0',\n",
              "       'Inflight service_1', 'Inflight service_2', 'Inflight service_3',\n",
              "       'Inflight service_4', 'Inflight service_5', 'Cleanliness_0',\n",
              "       'Cleanliness_1', 'Cleanliness_2', 'Cleanliness_3', 'Cleanliness_4',\n",
              "       'Cleanliness_5', 'Gender', 'Customer Type', 'Type of Travel'],\n",
              "      dtype='object')"
            ]
          },
          "metadata": {},
          "execution_count": 26
        }
      ]
    },
    {
      "cell_type": "code",
      "source": [
        "y"
      ],
      "metadata": {
        "execution": {
          "iopub.status.busy": "2022-08-01T21:03:47.488281Z",
          "iopub.execute_input": "2022-08-01T21:03:47.489176Z",
          "iopub.status.idle": "2022-08-01T21:03:47.499684Z",
          "shell.execute_reply.started": "2022-08-01T21:03:47.48914Z",
          "shell.execute_reply": "2022-08-01T21:03:47.498642Z"
        },
        "trusted": true,
        "id": "XSFtQqbO-cmh",
        "colab": {
          "base_uri": "https://localhost:8080/",
          "height": 458
        },
        "outputId": "d180814c-6c4d-4dbd-b381-998d3b042312"
      },
      "execution_count": 27,
      "outputs": [
        {
          "output_type": "execute_result",
          "data": {
            "text/plain": [
              "0         neutral or dissatisfied\n",
              "1         neutral or dissatisfied\n",
              "2                       satisfied\n",
              "3         neutral or dissatisfied\n",
              "4                       satisfied\n",
              "                   ...           \n",
              "103899    neutral or dissatisfied\n",
              "103900                  satisfied\n",
              "103901    neutral or dissatisfied\n",
              "103902    neutral or dissatisfied\n",
              "103903    neutral or dissatisfied\n",
              "Name: satisfaction, Length: 103904, dtype: category\n",
              "Categories (2, object): ['neutral or dissatisfied', 'satisfied']"
            ],
            "text/html": [
              "<div>\n",
              "<style scoped>\n",
              "    .dataframe tbody tr th:only-of-type {\n",
              "        vertical-align: middle;\n",
              "    }\n",
              "\n",
              "    .dataframe tbody tr th {\n",
              "        vertical-align: top;\n",
              "    }\n",
              "\n",
              "    .dataframe thead th {\n",
              "        text-align: right;\n",
              "    }\n",
              "</style>\n",
              "<table border=\"1\" class=\"dataframe\">\n",
              "  <thead>\n",
              "    <tr style=\"text-align: right;\">\n",
              "      <th></th>\n",
              "      <th>satisfaction</th>\n",
              "    </tr>\n",
              "  </thead>\n",
              "  <tbody>\n",
              "    <tr>\n",
              "      <th>0</th>\n",
              "      <td>neutral or dissatisfied</td>\n",
              "    </tr>\n",
              "    <tr>\n",
              "      <th>1</th>\n",
              "      <td>neutral or dissatisfied</td>\n",
              "    </tr>\n",
              "    <tr>\n",
              "      <th>2</th>\n",
              "      <td>satisfied</td>\n",
              "    </tr>\n",
              "    <tr>\n",
              "      <th>3</th>\n",
              "      <td>neutral or dissatisfied</td>\n",
              "    </tr>\n",
              "    <tr>\n",
              "      <th>4</th>\n",
              "      <td>satisfied</td>\n",
              "    </tr>\n",
              "    <tr>\n",
              "      <th>...</th>\n",
              "      <td>...</td>\n",
              "    </tr>\n",
              "    <tr>\n",
              "      <th>103899</th>\n",
              "      <td>neutral or dissatisfied</td>\n",
              "    </tr>\n",
              "    <tr>\n",
              "      <th>103900</th>\n",
              "      <td>satisfied</td>\n",
              "    </tr>\n",
              "    <tr>\n",
              "      <th>103901</th>\n",
              "      <td>neutral or dissatisfied</td>\n",
              "    </tr>\n",
              "    <tr>\n",
              "      <th>103902</th>\n",
              "      <td>neutral or dissatisfied</td>\n",
              "    </tr>\n",
              "    <tr>\n",
              "      <th>103903</th>\n",
              "      <td>neutral or dissatisfied</td>\n",
              "    </tr>\n",
              "  </tbody>\n",
              "</table>\n",
              "<p>103904 rows × 1 columns</p>\n",
              "</div><br><label><b>dtype:</b> category</label>"
            ]
          },
          "metadata": {},
          "execution_count": 27
        }
      ]
    },
    {
      "cell_type": "markdown",
      "source": [
        "Training a neural network takes a lot of time, so let's take not all the data, but only part of it:"
      ],
      "metadata": {
        "id": "qG56ME4v-cmh"
      }
    },
    {
      "cell_type": "code",
      "source": [
        "N_train = 27000\n",
        "N_test = 3000"
      ],
      "metadata": {
        "execution": {
          "iopub.status.busy": "2022-08-01T21:03:47.507515Z",
          "iopub.execute_input": "2022-08-01T21:03:47.508161Z",
          "iopub.status.idle": "2022-08-01T21:03:47.512648Z",
          "shell.execute_reply.started": "2022-08-01T21:03:47.508126Z",
          "shell.execute_reply": "2022-08-01T21:03:47.511651Z"
        },
        "trusted": true,
        "id": "VnqjPvql-cmh"
      },
      "execution_count": 28,
      "outputs": []
    },
    {
      "cell_type": "code",
      "source": [
        "from sklearn.model_selection import train_test_split\n",
        "\n",
        "X_train, X_test, y_train, y_test = train_test_split(X, y,\n",
        "                                                    train_size = N_train, test_size = N_test,\n",
        "                                                    stratify = y, random_state = 42)\n",
        "\n",
        "X_train.shape, X_test.shape"
      ],
      "metadata": {
        "execution": {
          "iopub.status.busy": "2022-08-01T21:03:47.514195Z",
          "iopub.execute_input": "2022-08-01T21:03:47.51478Z",
          "iopub.status.idle": "2022-08-01T21:03:47.707484Z",
          "shell.execute_reply.started": "2022-08-01T21:03:47.514747Z",
          "shell.execute_reply": "2022-08-01T21:03:47.706323Z"
        },
        "trusted": true,
        "id": "iviSk4We-cmh",
        "colab": {
          "base_uri": "https://localhost:8080/",
          "height": 0
        },
        "outputId": "05c81714-a493-4a33-93fa-06f7c51495ee"
      },
      "execution_count": 29,
      "outputs": [
        {
          "output_type": "execute_result",
          "data": {
            "text/plain": [
              "((27000, 93), (3000, 93))"
            ]
          },
          "metadata": {},
          "execution_count": 29
        }
      ]
    },
    {
      "cell_type": "code",
      "source": [
        "from sklearn.linear_model import LogisticRegression\n",
        "from sklearn.neighbors import KNeighborsClassifier\n",
        "from sklearn.svm import SVC\n",
        "from sklearn.neural_network import MLPClassifier\n",
        "from sklearn.metrics import accuracy_score, classification_report\n",
        "from sklearn.model_selection import train_test_split\n",
        "import pandas as pd"
      ],
      "metadata": {
        "collapsed": true,
        "id": "O76HX-FfiL2S"
      },
      "execution_count": 31,
      "outputs": []
    },
    {
      "cell_type": "code",
      "source": [
        "models = {\n",
        "    \"Logistic Regression\": LogisticRegression(max_iter=1000),\n",
        "    \"K-Nearest Neighbors\": KNeighborsClassifier(n_neighbors=5),\n",
        "    \"SVM (RBF Kernel)\": SVC(kernel='rbf', C=1.0, gamma='scale', probability=True),\n",
        "    \"MLP (alpha=5.625.623413251903493)\": MLPClassifier(\n",
        "        alpha=5.623413251903491,\n",
        "        hidden_layer_sizes=(43, 37),\n",
        "        solver='lbfgs',\n",
        "        activation='logistic',\n",
        "        max_iter=1000,\n",
        "        random_state=42\n",
        "    )\n",
        "}"
      ],
      "metadata": {
        "id": "cMuchw4nU-12"
      },
      "execution_count": 46,
      "outputs": []
    },
    {
      "cell_type": "code",
      "source": [
        "\n",
        "for name, model in models.items():\n",
        "\n",
        "    model.fit(X_train, y_train)\n",
        "\n",
        "    y_train_pred = model.predict(X_train)\n",
        "    y_test_pred = model.predict(X_test)\n",
        "\n",
        "    train_acc = accuracy_score(y_train, y_train_pred)\n",
        "    test_acc = accuracy_score(y_test, y_test_pred)\n",
        "\n",
        "    train_err = 1 - train_acc\n",
        "    test_err = 1 - test_acc\n",
        "\n",
        "    results[name] = {\n",
        "        \"Train Accuracy\": train_acc,\n",
        "        \"Test Accuracy\": test_acc,\n",
        "        \"Training Error\": train_err,\n",
        "        \"Test Error\": test_err\n",
        "    }\n",
        "\n",
        "# Convert to DataFrame for easy viewing\n",
        "import pandas as pd\n",
        "results_df = pd.DataFrame(results).T\n",
        "print(results_df)"
      ],
      "metadata": {
        "colab": {
          "base_uri": "https://localhost:8080/",
          "height": 0
        },
        "id": "pGX7sFcHY-Hq",
        "outputId": "1572f63e-5048-453b-8757-80c891011d33"
      },
      "execution_count": 47,
      "outputs": [
        {
          "output_type": "stream",
          "name": "stdout",
          "text": [
            "                                   Train Accuracy  Test Accuracy  \\\n",
            "Logistic Regression                      0.933296       0.935000   \n",
            "KNN                                      0.947852       0.926000   \n",
            "Random Forest                            1.000000       0.959000   \n",
            "SVM                                      0.964778       0.960333   \n",
            "MLP (optimized)                          0.979000       0.954333   \n",
            "K-Nearest Neighbors                      0.947852       0.926000   \n",
            "SVM (RBF Kernel)                         0.964778       0.960333   \n",
            "MLP (alpha=5.623)                        0.978333       0.954000   \n",
            "MLP (alpha=5.625.623413251903493)        0.974963       0.955667   \n",
            "\n",
            "                                   Training Error  Test Error  \n",
            "Logistic Regression                      0.066704    0.065000  \n",
            "KNN                                      0.052148    0.074000  \n",
            "Random Forest                            0.000000    0.041000  \n",
            "SVM                                      0.035222    0.039667  \n",
            "MLP (optimized)                          0.021000    0.045667  \n",
            "K-Nearest Neighbors                      0.052148    0.074000  \n",
            "SVM (RBF Kernel)                         0.035222    0.039667  \n",
            "MLP (alpha=5.623)                        0.021667    0.046000  \n",
            "MLP (alpha=5.625.623413251903493)        0.025037    0.044333  \n"
          ]
        }
      ]
    }
  ]
}